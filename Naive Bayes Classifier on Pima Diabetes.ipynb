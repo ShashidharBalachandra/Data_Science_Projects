{
 "cells": [
  {
   "cell_type": "markdown",
   "metadata": {},
   "source": [
    "# NAIVE BAYES CLASSIFIER PROJECT\n",
    "By : Shashidhar. B\n"
   ]
  },
  {
   "cell_type": "markdown",
   "metadata": {},
   "source": [
    "### Introduction\n",
    "The Pima are a group of Native Americans living in Arizona. A genetic predisposition allowed this group to survive normally to a diet poor of carbohydrates for years. In the recent years, because of a sudden shift from traditional agricultural crops to processed foods, together with a decline in physical activity, made them develop the highest prevalence of type 2 diabetes and for this reason they have been subject of many studies."
   ]
  },
  {
   "cell_type": "markdown",
   "metadata": {},
   "source": [
    "### Dataset\n",
    "\n",
    "The dataset includes data from 768 women with 8 characteristics, in particular:\n",
    "\n",
    "1. Number of times pregnant\n",
    "\n",
    "2. Plasma glucose concentration a 2 hours in an oral glucose tolerance test\n",
    "\n",
    "3. Diastolic blood pressure (mm Hg)\n",
    "\n",
    "4. Triceps skin fold thickness (mm)\n",
    "\n",
    "5. 2-Hour serum insulin (mu U/ml)\n",
    "\n",
    "6. Body mass index (weight in kg/(height in m)^2)\n",
    "\n",
    "7. Diabetes pedigree function\n",
    "\n",
    "8. Age (years)\n",
    "\n",
    "The last column of the dataset indicates if the person has been diagnosed with diabetes (1) or not (0)"
   ]
  },
  {
   "cell_type": "markdown",
   "metadata": {},
   "source": [
    "### Original Source\n",
    "The original dataset is available at UCI Machine Learning Repository and can be downloaded from this address: http://archive.ics.uci.edu/ml/datasets/Pima+Indians+Diabetes"
   ]
  },
  {
   "cell_type": "markdown",
   "metadata": {},
   "source": [
    "## Objective\n",
    "Model the Pima Indians Diabetes sample using Naive Bayes Classifier"
   ]
  },
  {
   "cell_type": "markdown",
   "metadata": {},
   "source": [
    "## Steps carried to achieve Objective\n",
    "\n",
    "1.Import Necessary Libraries and Packages.\n",
    "\n",
    "2.Import Data.\n",
    "\n",
    "3.Summarise Data.\n",
    "\n",
    "4.Data Cleaning and Transformation\n",
    "\n",
    "5.Split Data into Train and Test sets(70:30).\n",
    "\n",
    "6.NB Train Data Set.\n",
    "\n",
    "7.Accuracy of Test Data."
   ]
  },
  {
   "cell_type": "markdown",
   "metadata": {},
   "source": [
    "### 1.Import Necessary Libraries and Packages"
   ]
  },
  {
   "cell_type": "code",
   "execution_count": 199,
   "metadata": {},
   "outputs": [],
   "source": [
    "#For Numerial Operations numpy(Numerical Python) can be used\n",
    "import numpy as np\n",
    "\n",
    "#For Data Analysis pandas(Python Data Analysis Library) can be used\n",
    "import pandas as pd\n",
    "\n",
    "#For 2D graphs ploting matplotlib library can be used\n",
    "import matplotlib.pyplot as plt\n",
    "#To enable matplotlib to plot in Jupyter Notebook\n",
    "%matplotlib inline\n",
    "\n",
    "#For better visualisation of Statistical Data seaborn library can be used\n",
    "import seaborn as sns\n",
    "\n"
   ]
  },
  {
   "cell_type": "code",
   "execution_count": 200,
   "metadata": {},
   "outputs": [],
   "source": [
    "#To Split the Data into Train and Test\n",
    "from sklearn.model_selection import train_test_split\n",
    "\n",
    "#To model the Gaussian Naive Bayes Classifier\n",
    "from sklearn.naive_bayes import GaussianNB\n",
    "\n",
    "#To Calculate the Accuracy of the Model \n",
    "from sklearn.metrics import confusion_matrix\n",
    "from sklearn.utils.multiclass import unique_labels\n",
    "\n",
    "# calculate accuracy measures and confusion matrix\n",
    "from sklearn import metrics\n",
    "from sklearn.metrics import accuracy_score, confusion_matrix, recall_score, precision_score, f1_score, auc, roc_curve"
   ]
  },
  {
   "cell_type": "markdown",
   "metadata": {},
   "source": [
    "### 2.Import Data"
   ]
  },
  {
   "cell_type": "code",
   "execution_count": 201,
   "metadata": {},
   "outputs": [],
   "source": [
    "#Reading the Data\n",
    "file=pd.read_csv(\"pima-indians-diabetes-1.csv\")"
   ]
  },
  {
   "cell_type": "code",
   "execution_count": 202,
   "metadata": {},
   "outputs": [],
   "source": [
    "#Deep Copying file for safety\n",
    "data=file.copy(deep=True)"
   ]
  },
  {
   "cell_type": "markdown",
   "metadata": {},
   "source": [
    "### 3.Summarise Data"
   ]
  },
  {
   "cell_type": "code",
   "execution_count": 203,
   "metadata": {},
   "outputs": [
    {
     "data": {
      "text/html": [
       "<div>\n",
       "<style scoped>\n",
       "    .dataframe tbody tr th:only-of-type {\n",
       "        vertical-align: middle;\n",
       "    }\n",
       "\n",
       "    .dataframe tbody tr th {\n",
       "        vertical-align: top;\n",
       "    }\n",
       "\n",
       "    .dataframe thead th {\n",
       "        text-align: right;\n",
       "    }\n",
       "</style>\n",
       "<table border=\"1\" class=\"dataframe\">\n",
       "  <thead>\n",
       "    <tr style=\"text-align: right;\">\n",
       "      <th></th>\n",
       "      <th>Preg</th>\n",
       "      <th>Plas</th>\n",
       "      <th>Pres</th>\n",
       "      <th>skin</th>\n",
       "      <th>test</th>\n",
       "      <th>mass</th>\n",
       "      <th>pedi</th>\n",
       "      <th>age</th>\n",
       "      <th>class</th>\n",
       "    </tr>\n",
       "  </thead>\n",
       "  <tbody>\n",
       "    <tr>\n",
       "      <th>0</th>\n",
       "      <td>6</td>\n",
       "      <td>148</td>\n",
       "      <td>72</td>\n",
       "      <td>35</td>\n",
       "      <td>0</td>\n",
       "      <td>33.6</td>\n",
       "      <td>0.627</td>\n",
       "      <td>50</td>\n",
       "      <td>1</td>\n",
       "    </tr>\n",
       "    <tr>\n",
       "      <th>1</th>\n",
       "      <td>1</td>\n",
       "      <td>85</td>\n",
       "      <td>66</td>\n",
       "      <td>29</td>\n",
       "      <td>0</td>\n",
       "      <td>26.6</td>\n",
       "      <td>0.351</td>\n",
       "      <td>31</td>\n",
       "      <td>0</td>\n",
       "    </tr>\n",
       "    <tr>\n",
       "      <th>2</th>\n",
       "      <td>8</td>\n",
       "      <td>183</td>\n",
       "      <td>64</td>\n",
       "      <td>0</td>\n",
       "      <td>0</td>\n",
       "      <td>23.3</td>\n",
       "      <td>0.672</td>\n",
       "      <td>32</td>\n",
       "      <td>1</td>\n",
       "    </tr>\n",
       "    <tr>\n",
       "      <th>3</th>\n",
       "      <td>1</td>\n",
       "      <td>89</td>\n",
       "      <td>66</td>\n",
       "      <td>23</td>\n",
       "      <td>94</td>\n",
       "      <td>28.1</td>\n",
       "      <td>0.167</td>\n",
       "      <td>21</td>\n",
       "      <td>0</td>\n",
       "    </tr>\n",
       "    <tr>\n",
       "      <th>4</th>\n",
       "      <td>0</td>\n",
       "      <td>137</td>\n",
       "      <td>40</td>\n",
       "      <td>35</td>\n",
       "      <td>168</td>\n",
       "      <td>43.1</td>\n",
       "      <td>2.288</td>\n",
       "      <td>33</td>\n",
       "      <td>1</td>\n",
       "    </tr>\n",
       "  </tbody>\n",
       "</table>\n",
       "</div>"
      ],
      "text/plain": [
       "   Preg  Plas  Pres  skin  test  mass   pedi  age  class\n",
       "0     6   148    72    35     0  33.6  0.627   50      1\n",
       "1     1    85    66    29     0  26.6  0.351   31      0\n",
       "2     8   183    64     0     0  23.3  0.672   32      1\n",
       "3     1    89    66    23    94  28.1  0.167   21      0\n",
       "4     0   137    40    35   168  43.1  2.288   33      1"
      ]
     },
     "execution_count": 203,
     "metadata": {},
     "output_type": "execute_result"
    }
   ],
   "source": [
    "#To Look-up Data\n",
    "data.head()"
   ]
  },
  {
   "cell_type": "code",
   "execution_count": 204,
   "metadata": {},
   "outputs": [
    {
     "data": {
      "text/html": [
       "<div>\n",
       "<style scoped>\n",
       "    .dataframe tbody tr th:only-of-type {\n",
       "        vertical-align: middle;\n",
       "    }\n",
       "\n",
       "    .dataframe tbody tr th {\n",
       "        vertical-align: top;\n",
       "    }\n",
       "\n",
       "    .dataframe thead th {\n",
       "        text-align: right;\n",
       "    }\n",
       "</style>\n",
       "<table border=\"1\" class=\"dataframe\">\n",
       "  <thead>\n",
       "    <tr style=\"text-align: right;\">\n",
       "      <th></th>\n",
       "      <th>count</th>\n",
       "      <th>mean</th>\n",
       "      <th>std</th>\n",
       "      <th>min</th>\n",
       "      <th>25%</th>\n",
       "      <th>50%</th>\n",
       "      <th>75%</th>\n",
       "      <th>max</th>\n",
       "    </tr>\n",
       "  </thead>\n",
       "  <tbody>\n",
       "    <tr>\n",
       "      <th>Preg</th>\n",
       "      <td>768.0</td>\n",
       "      <td>3.845052</td>\n",
       "      <td>3.369578</td>\n",
       "      <td>0.000</td>\n",
       "      <td>1.00000</td>\n",
       "      <td>3.0000</td>\n",
       "      <td>6.00000</td>\n",
       "      <td>17.00</td>\n",
       "    </tr>\n",
       "    <tr>\n",
       "      <th>Plas</th>\n",
       "      <td>768.0</td>\n",
       "      <td>120.894531</td>\n",
       "      <td>31.972618</td>\n",
       "      <td>0.000</td>\n",
       "      <td>99.00000</td>\n",
       "      <td>117.0000</td>\n",
       "      <td>140.25000</td>\n",
       "      <td>199.00</td>\n",
       "    </tr>\n",
       "    <tr>\n",
       "      <th>Pres</th>\n",
       "      <td>768.0</td>\n",
       "      <td>69.105469</td>\n",
       "      <td>19.355807</td>\n",
       "      <td>0.000</td>\n",
       "      <td>62.00000</td>\n",
       "      <td>72.0000</td>\n",
       "      <td>80.00000</td>\n",
       "      <td>122.00</td>\n",
       "    </tr>\n",
       "    <tr>\n",
       "      <th>skin</th>\n",
       "      <td>768.0</td>\n",
       "      <td>20.536458</td>\n",
       "      <td>15.952218</td>\n",
       "      <td>0.000</td>\n",
       "      <td>0.00000</td>\n",
       "      <td>23.0000</td>\n",
       "      <td>32.00000</td>\n",
       "      <td>99.00</td>\n",
       "    </tr>\n",
       "    <tr>\n",
       "      <th>test</th>\n",
       "      <td>768.0</td>\n",
       "      <td>79.799479</td>\n",
       "      <td>115.244002</td>\n",
       "      <td>0.000</td>\n",
       "      <td>0.00000</td>\n",
       "      <td>30.5000</td>\n",
       "      <td>127.25000</td>\n",
       "      <td>846.00</td>\n",
       "    </tr>\n",
       "    <tr>\n",
       "      <th>mass</th>\n",
       "      <td>768.0</td>\n",
       "      <td>31.992578</td>\n",
       "      <td>7.884160</td>\n",
       "      <td>0.000</td>\n",
       "      <td>27.30000</td>\n",
       "      <td>32.0000</td>\n",
       "      <td>36.60000</td>\n",
       "      <td>67.10</td>\n",
       "    </tr>\n",
       "    <tr>\n",
       "      <th>pedi</th>\n",
       "      <td>768.0</td>\n",
       "      <td>0.471876</td>\n",
       "      <td>0.331329</td>\n",
       "      <td>0.078</td>\n",
       "      <td>0.24375</td>\n",
       "      <td>0.3725</td>\n",
       "      <td>0.62625</td>\n",
       "      <td>2.42</td>\n",
       "    </tr>\n",
       "    <tr>\n",
       "      <th>age</th>\n",
       "      <td>768.0</td>\n",
       "      <td>33.240885</td>\n",
       "      <td>11.760232</td>\n",
       "      <td>21.000</td>\n",
       "      <td>24.00000</td>\n",
       "      <td>29.0000</td>\n",
       "      <td>41.00000</td>\n",
       "      <td>81.00</td>\n",
       "    </tr>\n",
       "    <tr>\n",
       "      <th>class</th>\n",
       "      <td>768.0</td>\n",
       "      <td>0.348958</td>\n",
       "      <td>0.476951</td>\n",
       "      <td>0.000</td>\n",
       "      <td>0.00000</td>\n",
       "      <td>0.0000</td>\n",
       "      <td>1.00000</td>\n",
       "      <td>1.00</td>\n",
       "    </tr>\n",
       "  </tbody>\n",
       "</table>\n",
       "</div>"
      ],
      "text/plain": [
       "       count        mean         std     min       25%       50%        75%  \\\n",
       "Preg   768.0    3.845052    3.369578   0.000   1.00000    3.0000    6.00000   \n",
       "Plas   768.0  120.894531   31.972618   0.000  99.00000  117.0000  140.25000   \n",
       "Pres   768.0   69.105469   19.355807   0.000  62.00000   72.0000   80.00000   \n",
       "skin   768.0   20.536458   15.952218   0.000   0.00000   23.0000   32.00000   \n",
       "test   768.0   79.799479  115.244002   0.000   0.00000   30.5000  127.25000   \n",
       "mass   768.0   31.992578    7.884160   0.000  27.30000   32.0000   36.60000   \n",
       "pedi   768.0    0.471876    0.331329   0.078   0.24375    0.3725    0.62625   \n",
       "age    768.0   33.240885   11.760232  21.000  24.00000   29.0000   41.00000   \n",
       "class  768.0    0.348958    0.476951   0.000   0.00000    0.0000    1.00000   \n",
       "\n",
       "          max  \n",
       "Preg    17.00  \n",
       "Plas   199.00  \n",
       "Pres   122.00  \n",
       "skin    99.00  \n",
       "test   846.00  \n",
       "mass    67.10  \n",
       "pedi     2.42  \n",
       "age     81.00  \n",
       "class    1.00  "
      ]
     },
     "execution_count": 204,
     "metadata": {},
     "output_type": "execute_result"
    }
   ],
   "source": [
    "#Getting complete Statistical overview of data\n",
    "data.describe(include='all').T"
   ]
  },
  {
   "cell_type": "markdown",
   "metadata": {},
   "source": [
    "From Head and Describe command we can know that;\n",
    "\n",
    "1)There are totally 8 attributes in the given data-set which are properly indexed and labled.\n",
    "\n",
    "2) Atrribute class is the target variable coded 1 for Diabetic and 0 for Non-Diabetic. This should be Categorical. \n",
    "\n",
    "3) There are 768 rows in all the column.\n",
    "\n",
    "4) The Mean and the Median Value of the test attribute has larger difference indicating significant Outliers.\n",
    "This can be confirmed Visually and delt while Cleaning the Data.\n",
    "\n",
    "\n"
   ]
  },
  {
   "cell_type": "markdown",
   "metadata": {},
   "source": [
    "### 4.Data Cleaning and Transformation\n",
    "\n"
   ]
  },
  {
   "cell_type": "code",
   "execution_count": 205,
   "metadata": {},
   "outputs": [],
   "source": [
    "#Let us change the Header lables of the data as per convenience\n",
    "data=data.rename(columns={\"Preg\":\"Pregnancies_Number\",\n",
    "\"Plas\":\"Glucose_Level\",\n",
    "\"Pres\":\"BP\",\n",
    "\"skin\":\"Skin_Fold_Thickness\",\n",
    "\"test\":\"Insulin_Intake\",\n",
    "\"mass\":\"BMI\",\n",
    "\"pedi\":\"Diabetes_Pedigree_Function\",\n",
    "\"age\":\"Age\",\n",
    "\"class\":\"Class\"})"
   ]
  },
  {
   "cell_type": "code",
   "execution_count": 206,
   "metadata": {},
   "outputs": [
    {
     "name": "stdout",
     "output_type": "stream",
     "text": [
      "<class 'pandas.core.frame.DataFrame'>\n",
      "RangeIndex: 768 entries, 0 to 767\n",
      "Data columns (total 9 columns):\n",
      "Pregnancies_Number            768 non-null int64\n",
      "Glucose_Level                 768 non-null int64\n",
      "BP                            768 non-null int64\n",
      "Skin_Fold_Thickness           768 non-null int64\n",
      "Insulin_Intake                768 non-null int64\n",
      "BMI                           768 non-null float64\n",
      "Diabetes_Pedigree_Function    768 non-null float64\n",
      "Age                           768 non-null int64\n",
      "Class                         768 non-null int64\n",
      "dtypes: float64(2), int64(7)\n",
      "memory usage: 54.0 KB\n"
     ]
    }
   ],
   "source": [
    "#To check for null entries and  data type of the attributes\n",
    "data.info()"
   ]
  },
  {
   "cell_type": "markdown",
   "metadata": {},
   "source": [
    "There are no null or NaN values in the data set.\n",
    "\n",
    "But during evaluation of the data from above(and in the excel spread sheet), there are many entries with zero are found.\n",
    "These should be delt properly for increasing accuracy of the prediction.\n",
    "\n",
    "There are no string or any other data type apart from Integer and Float in the data. \n",
    "Also we can notice that, the atribute Class is Categorical the data-type should be of Contineous to apply Naive Bayes.\n",
    "\n",
    "Hence their is no need to change the Contineous attribute to Categorical."
   ]
  },
  {
   "cell_type": "code",
   "execution_count": 207,
   "metadata": {},
   "outputs": [
    {
     "data": {
      "text/plain": [
       "Pregnancies_Number            111\n",
       "Glucose_Level                   5\n",
       "BP                             35\n",
       "Skin_Fold_Thickness           227\n",
       "Insulin_Intake                374\n",
       "BMI                            11\n",
       "Diabetes_Pedigree_Function      0\n",
       "Age                             0\n",
       "Class                         500\n",
       "dtype: int64"
      ]
     },
     "execution_count": 207,
     "metadata": {},
     "output_type": "execute_result"
    }
   ],
   "source": [
    "#Now let us deal with the entries with zero values;\n",
    "#1st let us check how many entries are of zero values.\n",
    "(data==0).sum(axis=0)"
   ]
  },
  {
   "cell_type": "markdown",
   "metadata": {},
   "source": [
    "From above it can be found that;\n",
    "\n",
    "Glucose_Level, BP, Skin_Fold_Thickness and BMI values can not be equal to zero.\n",
    "\n",
    "Glucose_Level, BP and BMI values are equal to zero are less in number which can be droped,\n",
    "But Skin_Fold_Thickness should be replaced with an alternative value.\n"
   ]
  },
  {
   "cell_type": "markdown",
   "metadata": {},
   "source": [
    "#### Data Visualisation\n",
    "Now before making any Transformation in the Data let us Clean the Data.\n",
    "\n",
    "Let us Visualise the Data graphically for better understanding of various Features and their Value Distribution.\n"
   ]
  },
  {
   "cell_type": "code",
   "execution_count": 208,
   "metadata": {},
   "outputs": [
    {
     "data": {
      "text/plain": [
       "<matplotlib.axes._subplots.AxesSubplot at 0xa3d8770>"
      ]
     },
     "execution_count": 208,
     "metadata": {},
     "output_type": "execute_result"
    },
    {
     "data": {
      "image/png": "[encoded data removed]",
      "text/plain": [
       "<Figure size 1440x360 with 1 Axes>"
      ]
     },
     "metadata": {
      "needs_background": "light"
     },
     "output_type": "display_data"
    }
   ],
   "source": [
    "data.boxplot(figsize=(20,5))"
   ]
  },
  {
   "cell_type": "markdown",
   "metadata": {},
   "source": [
    "The Atributes Pregnancies_Number, Age and Class are just number without any Statistical importance."
   ]
  },
  {
   "cell_type": "code",
   "execution_count": 209,
   "metadata": {},
   "outputs": [
    {
     "data": {
      "image/png": "[encoded data removed]",
      "text/plain": [
       "<Figure size 1440x720 with 6 Axes>"
      ]
     },
     "metadata": {
      "needs_background": "light"
     },
     "output_type": "display_data"
    }
   ],
   "source": [
    "f,axes=plt.subplots(2,3,figsize=(20,10))\n",
    "sns.boxplot(data['Glucose_Level'],ax=axes[0,0])\n",
    "sns.boxplot(data['BP'],ax=axes[0,1])\n",
    "sns.boxplot(data['BMI'],ax=axes[0,2])\n",
    "sns.boxplot(data['Diabetes_Pedigree_Function'],ax=axes[1,0])\n",
    "sns.boxplot(data['Insulin_Intake'],ax=axes[1,1])\n",
    "sns.boxplot(data['Skin_Fold_Thickness'],ax=axes[1,2])\n",
    "plt.show()\n"
   ]
  },
  {
   "cell_type": "code",
   "execution_count": 210,
   "metadata": {},
   "outputs": [
    {
     "data": {
      "text/html": [
       "<div>\n",
       "<style scoped>\n",
       "    .dataframe tbody tr th:only-of-type {\n",
       "        vertical-align: middle;\n",
       "    }\n",
       "\n",
       "    .dataframe tbody tr th {\n",
       "        vertical-align: top;\n",
       "    }\n",
       "\n",
       "    .dataframe thead th {\n",
       "        text-align: right;\n",
       "    }\n",
       "</style>\n",
       "<table border=\"1\" class=\"dataframe\">\n",
       "  <thead>\n",
       "    <tr style=\"text-align: right;\">\n",
       "      <th></th>\n",
       "      <th>count</th>\n",
       "      <th>mean</th>\n",
       "      <th>std</th>\n",
       "      <th>min</th>\n",
       "      <th>25%</th>\n",
       "      <th>50%</th>\n",
       "      <th>75%</th>\n",
       "      <th>max</th>\n",
       "    </tr>\n",
       "  </thead>\n",
       "  <tbody>\n",
       "    <tr>\n",
       "      <th>Pregnancies_Number</th>\n",
       "      <td>116.0</td>\n",
       "      <td>14.655172</td>\n",
       "      <td>11.771080</td>\n",
       "      <td>0.000</td>\n",
       "      <td>4.000</td>\n",
       "      <td>12.000</td>\n",
       "      <td>24.000</td>\n",
       "      <td>52.000</td>\n",
       "    </tr>\n",
       "    <tr>\n",
       "      <th>Glucose_Level</th>\n",
       "      <td>116.0</td>\n",
       "      <td>452.965517</td>\n",
       "      <td>100.283592</td>\n",
       "      <td>272.000</td>\n",
       "      <td>388.000</td>\n",
       "      <td>438.000</td>\n",
       "      <td>503.000</td>\n",
       "      <td>776.000</td>\n",
       "    </tr>\n",
       "    <tr>\n",
       "      <th>BP</th>\n",
       "      <td>116.0</td>\n",
       "      <td>281.103448</td>\n",
       "      <td>48.623734</td>\n",
       "      <td>152.000</td>\n",
       "      <td>248.000</td>\n",
       "      <td>284.000</td>\n",
       "      <td>312.000</td>\n",
       "      <td>384.000</td>\n",
       "    </tr>\n",
       "    <tr>\n",
       "      <th>Skin_Fold_Thickness</th>\n",
       "      <td>116.0</td>\n",
       "      <td>29.034483</td>\n",
       "      <td>32.862806</td>\n",
       "      <td>0.000</td>\n",
       "      <td>0.000</td>\n",
       "      <td>0.000</td>\n",
       "      <td>65.000</td>\n",
       "      <td>80.000</td>\n",
       "    </tr>\n",
       "    <tr>\n",
       "      <th>Insulin_Intake</th>\n",
       "      <td>116.0</td>\n",
       "      <td>92.413793</td>\n",
       "      <td>151.296660</td>\n",
       "      <td>0.000</td>\n",
       "      <td>0.000</td>\n",
       "      <td>0.000</td>\n",
       "      <td>197.000</td>\n",
       "      <td>500.000</td>\n",
       "    </tr>\n",
       "    <tr>\n",
       "      <th>BMI</th>\n",
       "      <td>116.0</td>\n",
       "      <td>99.462069</td>\n",
       "      <td>12.291430</td>\n",
       "      <td>72.800</td>\n",
       "      <td>90.000</td>\n",
       "      <td>100.200</td>\n",
       "      <td>109.600</td>\n",
       "      <td>119.600</td>\n",
       "    </tr>\n",
       "    <tr>\n",
       "      <th>Diabetes_Pedigree_Function</th>\n",
       "      <td>116.0</td>\n",
       "      <td>1.062897</td>\n",
       "      <td>0.409805</td>\n",
       "      <td>0.312</td>\n",
       "      <td>0.751</td>\n",
       "      <td>1.016</td>\n",
       "      <td>1.274</td>\n",
       "      <td>1.988</td>\n",
       "    </tr>\n",
       "    <tr>\n",
       "      <th>Age</th>\n",
       "      <td>116.0</td>\n",
       "      <td>131.103448</td>\n",
       "      <td>53.924485</td>\n",
       "      <td>84.000</td>\n",
       "      <td>88.000</td>\n",
       "      <td>108.000</td>\n",
       "      <td>151.000</td>\n",
       "      <td>276.000</td>\n",
       "    </tr>\n",
       "    <tr>\n",
       "      <th>Class</th>\n",
       "      <td>116.0</td>\n",
       "      <td>0.517241</td>\n",
       "      <td>1.347995</td>\n",
       "      <td>0.000</td>\n",
       "      <td>0.000</td>\n",
       "      <td>0.000</td>\n",
       "      <td>0.000</td>\n",
       "      <td>4.000</td>\n",
       "    </tr>\n",
       "  </tbody>\n",
       "</table>\n",
       "</div>"
      ],
      "text/plain": [
       "                            count        mean         std      min      25%  \\\n",
       "Pregnancies_Number          116.0   14.655172   11.771080    0.000    4.000   \n",
       "Glucose_Level               116.0  452.965517  100.283592  272.000  388.000   \n",
       "BP                          116.0  281.103448   48.623734  152.000  248.000   \n",
       "Skin_Fold_Thickness         116.0   29.034483   32.862806    0.000    0.000   \n",
       "Insulin_Intake              116.0   92.413793  151.296660    0.000    0.000   \n",
       "BMI                         116.0   99.462069   12.291430   72.800   90.000   \n",
       "Diabetes_Pedigree_Function  116.0    1.062897    0.409805    0.312    0.751   \n",
       "Age                         116.0  131.103448   53.924485   84.000   88.000   \n",
       "Class                       116.0    0.517241    1.347995    0.000    0.000   \n",
       "\n",
       "                                50%      75%      max  \n",
       "Pregnancies_Number           12.000   24.000   52.000  \n",
       "Glucose_Level               438.000  503.000  776.000  \n",
       "BP                          284.000  312.000  384.000  \n",
       "Skin_Fold_Thickness           0.000   65.000   80.000  \n",
       "Insulin_Intake                0.000  197.000  500.000  \n",
       "BMI                         100.200  109.600  119.600  \n",
       "Diabetes_Pedigree_Function    1.016    1.274    1.988  \n",
       "Age                         108.000  151.000  276.000  \n",
       "Class                         0.000    0.000    4.000  "
      ]
     },
     "execution_count": 210,
     "metadata": {},
     "output_type": "execute_result"
    }
   ],
   "source": [
    "#Let us drop all the Extreme Outliers firstly\n",
    "data1 = data[data['Glucose_Level']>=25]\n",
    "data1 = data1[data1['BP']>=30] + data1[data1['BP']<=110]\n",
    "data1 = data1[data1['BMI']>=10] + data1[data1['BMI']<=60]\n",
    "data1 = data1[data1['Diabetes_Pedigree_Function']<=2]\n",
    "data1 = data1[data1['Insulin_Intake']<=550]\n",
    "data1 = data1[data1['Skin_Fold_Thickness']<=80]\n",
    "data1.describe().T"
   ]
  },
  {
   "cell_type": "code",
   "execution_count": 211,
   "metadata": {},
   "outputs": [
    {
     "data": {
      "text/plain": [
       "Pregnancies_Number             11\n",
       "Glucose_Level                   0\n",
       "BP                              0\n",
       "Skin_Fold_Thickness            63\n",
       "Insulin_Intake                 80\n",
       "BMI                             0\n",
       "Diabetes_Pedigree_Function      0\n",
       "Age                             0\n",
       "Class                         101\n",
       "dtype: int64"
      ]
     },
     "execution_count": 211,
     "metadata": {},
     "output_type": "execute_result"
    }
   ],
   "source": [
    "#Now to find out the entries with zero\n",
    "(data1==0).sum(axis=0)"
   ]
  },
  {
   "cell_type": "code",
   "execution_count": 212,
   "metadata": {},
   "outputs": [
    {
     "data": {
      "text/html": [
       "<div>\n",
       "<style scoped>\n",
       "    .dataframe tbody tr th:only-of-type {\n",
       "        vertical-align: middle;\n",
       "    }\n",
       "\n",
       "    .dataframe tbody tr th {\n",
       "        vertical-align: top;\n",
       "    }\n",
       "\n",
       "    .dataframe thead th {\n",
       "        text-align: right;\n",
       "    }\n",
       "</style>\n",
       "<table border=\"1\" class=\"dataframe\">\n",
       "  <thead>\n",
       "    <tr style=\"text-align: right;\">\n",
       "      <th></th>\n",
       "      <th>count</th>\n",
       "      <th>mean</th>\n",
       "      <th>std</th>\n",
       "      <th>min</th>\n",
       "      <th>25%</th>\n",
       "      <th>50%</th>\n",
       "      <th>75%</th>\n",
       "      <th>max</th>\n",
       "    </tr>\n",
       "  </thead>\n",
       "  <tbody>\n",
       "    <tr>\n",
       "      <th>Pregnancies_Number</th>\n",
       "      <td>53.0</td>\n",
       "      <td>10.792453</td>\n",
       "      <td>10.715479</td>\n",
       "      <td>0.00</td>\n",
       "      <td>4.000</td>\n",
       "      <td>8.000</td>\n",
       "      <td>12.00</td>\n",
       "      <td>52.000</td>\n",
       "    </tr>\n",
       "    <tr>\n",
       "      <th>Glucose_Level</th>\n",
       "      <td>53.0</td>\n",
       "      <td>411.773585</td>\n",
       "      <td>78.216328</td>\n",
       "      <td>272.00</td>\n",
       "      <td>360.000</td>\n",
       "      <td>396.000</td>\n",
       "      <td>452.00</td>\n",
       "      <td>676.000</td>\n",
       "    </tr>\n",
       "    <tr>\n",
       "      <th>BP</th>\n",
       "      <td>53.0</td>\n",
       "      <td>271.622642</td>\n",
       "      <td>50.476280</td>\n",
       "      <td>152.00</td>\n",
       "      <td>232.000</td>\n",
       "      <td>280.000</td>\n",
       "      <td>304.00</td>\n",
       "      <td>368.000</td>\n",
       "    </tr>\n",
       "    <tr>\n",
       "      <th>Skin_Fold_Thickness</th>\n",
       "      <td>53.0</td>\n",
       "      <td>63.547170</td>\n",
       "      <td>12.370197</td>\n",
       "      <td>40.00</td>\n",
       "      <td>52.000</td>\n",
       "      <td>68.000</td>\n",
       "      <td>76.00</td>\n",
       "      <td>80.000</td>\n",
       "    </tr>\n",
       "    <tr>\n",
       "      <th>Insulin_Intake</th>\n",
       "      <td>53.0</td>\n",
       "      <td>202.264151</td>\n",
       "      <td>167.264893</td>\n",
       "      <td>0.00</td>\n",
       "      <td>0.000</td>\n",
       "      <td>212.000</td>\n",
       "      <td>336.00</td>\n",
       "      <td>500.000</td>\n",
       "    </tr>\n",
       "    <tr>\n",
       "      <th>BMI</th>\n",
       "      <td>53.0</td>\n",
       "      <td>96.890566</td>\n",
       "      <td>13.101648</td>\n",
       "      <td>72.80</td>\n",
       "      <td>87.200</td>\n",
       "      <td>97.600</td>\n",
       "      <td>107.60</td>\n",
       "      <td>119.600</td>\n",
       "    </tr>\n",
       "    <tr>\n",
       "      <th>Diabetes_Pedigree_Function</th>\n",
       "      <td>53.0</td>\n",
       "      <td>1.166717</td>\n",
       "      <td>0.443557</td>\n",
       "      <td>0.34</td>\n",
       "      <td>0.916</td>\n",
       "      <td>1.076</td>\n",
       "      <td>1.52</td>\n",
       "      <td>1.988</td>\n",
       "    </tr>\n",
       "    <tr>\n",
       "      <th>Age</th>\n",
       "      <td>53.0</td>\n",
       "      <td>108.377358</td>\n",
       "      <td>34.286253</td>\n",
       "      <td>84.00</td>\n",
       "      <td>88.000</td>\n",
       "      <td>96.000</td>\n",
       "      <td>116.00</td>\n",
       "      <td>248.000</td>\n",
       "    </tr>\n",
       "    <tr>\n",
       "      <th>Class</th>\n",
       "      <td>53.0</td>\n",
       "      <td>0.301887</td>\n",
       "      <td>1.066715</td>\n",
       "      <td>0.00</td>\n",
       "      <td>0.000</td>\n",
       "      <td>0.000</td>\n",
       "      <td>0.00</td>\n",
       "      <td>4.000</td>\n",
       "    </tr>\n",
       "  </tbody>\n",
       "</table>\n",
       "</div>"
      ],
      "text/plain": [
       "                            count        mean         std     min      25%  \\\n",
       "Pregnancies_Number           53.0   10.792453   10.715479    0.00    4.000   \n",
       "Glucose_Level                53.0  411.773585   78.216328  272.00  360.000   \n",
       "BP                           53.0  271.622642   50.476280  152.00  232.000   \n",
       "Skin_Fold_Thickness          53.0   63.547170   12.370197   40.00   52.000   \n",
       "Insulin_Intake               53.0  202.264151  167.264893    0.00    0.000   \n",
       "BMI                          53.0   96.890566   13.101648   72.80   87.200   \n",
       "Diabetes_Pedigree_Function   53.0    1.166717    0.443557    0.34    0.916   \n",
       "Age                          53.0  108.377358   34.286253   84.00   88.000   \n",
       "Class                        53.0    0.301887    1.066715    0.00    0.000   \n",
       "\n",
       "                                50%     75%      max  \n",
       "Pregnancies_Number            8.000   12.00   52.000  \n",
       "Glucose_Level               396.000  452.00  676.000  \n",
       "BP                          280.000  304.00  368.000  \n",
       "Skin_Fold_Thickness          68.000   76.00   80.000  \n",
       "Insulin_Intake              212.000  336.00  500.000  \n",
       "BMI                          97.600  107.60  119.600  \n",
       "Diabetes_Pedigree_Function    1.076    1.52    1.988  \n",
       "Age                          96.000  116.00  248.000  \n",
       "Class                         0.000    0.00    4.000  "
      ]
     },
     "execution_count": 212,
     "metadata": {},
     "output_type": "execute_result"
    }
   ],
   "source": [
    "#Skin_Fold_Thickness can not be zero.\n",
    "\n",
    "#let us drop all the rows of Skin_Fold_Thickness with zero value.\n",
    "data1 = data1.drop(data1[data1['Skin_Fold_Thickness'] == 0 ].index)\n",
    "data1.describe().T"
   ]
  },
  {
   "cell_type": "code",
   "execution_count": 213,
   "metadata": {},
   "outputs": [
    {
     "data": {
      "text/plain": [
       "Pregnancies_Number            111\n",
       "Glucose_Level                   5\n",
       "BP                             35\n",
       "Skin_Fold_Thickness           227\n",
       "Insulin_Intake                374\n",
       "BMI                            11\n",
       "Diabetes_Pedigree_Function      0\n",
       "Age                             0\n",
       "Class                         500\n",
       "dtype: int64"
      ]
     },
     "execution_count": 213,
     "metadata": {},
     "output_type": "execute_result"
    }
   ],
   "source": [
    "(data==0).sum(axis=0)"
   ]
  },
  {
   "cell_type": "markdown",
   "metadata": {},
   "source": [
    "he idea here is to replace all the zero and outlier rows with the median of best of the data entries we have.\n",
    "\n",
    "This can be achieved by replacing the respective median values of data_norm1 to data_norm.\n",
    "By this we have found the true median undisturbed by the outliers and zero entries.\n",
    "\n",
    "By doing so we will be retaining large amount of available data for train and test."
   ]
  },
  {
   "cell_type": "code",
   "execution_count": 214,
   "metadata": {},
   "outputs": [],
   "source": [
    "#To Calculate the Median Value of Glucose_Level\n",
    "median_Glucose_Level= data1['Glucose_Level'].median()\n",
    "\n",
    "#To Replace the Median Value where values are 0\n",
    "data['Glucose_Level'] = data['Glucose_Level'].replace(to_replace=0, value=median_Glucose_Level)\n",
    "\n",
    "\n",
    "median_BP= data1['BP'].median()\n",
    "data['BP'] = data['BP'].replace(to_replace=0, value=median_BP)\n",
    "\n",
    "median_BMI= data1['BMI'].median()\n",
    "data['BMI']= data['BMI'].replace(to_replace=0, value=median_BMI)\n",
    "\n",
    "median_Skin_Fold_Thickness= data1['Skin_Fold_Thickness'].median()\n",
    "data['Skin_Fold_Thickness']= data['Skin_Fold_Thickness'].replace(to_replace=0, value=median_Skin_Fold_Thickness)"
   ]
  },
  {
   "cell_type": "code",
   "execution_count": 215,
   "metadata": {},
   "outputs": [],
   "source": [
    "#Now to replace the outliers values with the respective medians.\n",
    "data.loc[data['Glucose_Level']<=25,'Glucose_Level'] = data1['Glucose_Level'].median()\n",
    "data.loc[data['BP']<=30,'BP'] = data1['BP'].median()\n",
    "data.loc[data['BP']>=110,'BP'] = data1['BP'].median()\n",
    "data.loc[data['BMI']>=60,'BMI'] = data1['BMI'].median()\n",
    "data.loc[data['BMI']<=10,'BMI'] = data1['BMI'].median()\n",
    "data.loc[data['Diabetes_Pedigree_Function']>=2,'Diabetes_Pedigree_Function'] = data1['Diabetes_Pedigree_Function'].median()\n",
    "data.loc[data['Insulin_Intake']>=550,'Insulin_Intake'] = data1['Insulin_Intake'].median()\n",
    "data.loc[data['Skin_Fold_Thickness']>=80,'Skin_Fold_Thickness'] = data1['Skin_Fold_Thickness'].median()"
   ]
  },
  {
   "cell_type": "markdown",
   "metadata": {},
   "source": [
    "It can be noted that the attributes (mainly; Glucose_Level, BP, Skin_Fold_Thickness and BMI) zero values and Outliers have been replaced with respective median values."
   ]
  },
  {
   "cell_type": "code",
   "execution_count": 216,
   "metadata": {},
   "outputs": [
    {
     "data": {
      "image/png": "[encoded data removed]",
      "text/plain": [
       "<Figure size 1440x1080 with 9 Axes>"
      ]
     },
     "metadata": {
      "needs_background": "light"
     },
     "output_type": "display_data"
    }
   ],
   "source": [
    "data.hist(bins=50, figsize=(20, 15))\n",
    "plt.show()"
   ]
  },
  {
   "cell_type": "markdown",
   "metadata": {},
   "source": [
    "### 5.Split Data into Train and Test sets(70:30)\n"
   ]
  },
  {
   "cell_type": "code",
   "execution_count": 218,
   "metadata": {},
   "outputs": [],
   "source": [
    "# Arrange data into independent variables and dependent variables\n",
    "X = data.values[:,1:5]  ## Features\n",
    "Y = data.values[:,8]  ## Target"
   ]
  },
  {
   "cell_type": "code",
   "execution_count": 219,
   "metadata": {},
   "outputs": [],
   "source": [
    "# Split the data into train and test\n",
    "# Train data size: 70% of original data\n",
    "# Test data size: 30% of original data\n",
    "X_train, X_test, Y_train, Y_test = train_test_split(X, Y, test_size = 0.3, random_state = 10)"
   ]
  },
  {
   "cell_type": "markdown",
   "metadata": {},
   "source": [
    "### 6.NB Train Data Set\n"
   ]
  },
  {
   "cell_type": "code",
   "execution_count": 220,
   "metadata": {},
   "outputs": [
    {
     "data": {
      "text/plain": [
       "GaussianNB(priors=None, var_smoothing=1e-09)"
      ]
     },
     "execution_count": 220,
     "metadata": {},
     "output_type": "execute_result"
    }
   ],
   "source": [
    "#Since the data is Normally Distributed we shall use GaussianNB.\n",
    "classifier = GaussianNB()\n",
    "classifier.fit(X_train,Y_train)\n",
    "GaussianNB(priors=None)"
   ]
  },
  {
   "cell_type": "code",
   "execution_count": 221,
   "metadata": {},
   "outputs": [],
   "source": [
    "#Y_pred = clf.predict(X_test)\n",
    "Y_pred = classifier.predict(X_test)"
   ]
  },
  {
   "cell_type": "markdown",
   "metadata": {},
   "source": [
    "### 7.Accuracy of Test Data"
   ]
  },
  {
   "cell_type": "code",
   "execution_count": 222,
   "metadata": {},
   "outputs": [
    {
     "data": {
      "text/plain": [
       "0.7012987012987013"
      ]
     },
     "execution_count": 222,
     "metadata": {},
     "output_type": "execute_result"
    }
   ],
   "source": [
    "accuracy_score(Y_test, Y_pred, normalize = True)"
   ]
  },
  {
   "cell_type": "markdown",
   "metadata": {},
   "source": [
    "### Conclusion"
   ]
  },
  {
   "cell_type": "markdown",
   "metadata": {},
   "source": [
    "We finally find a score of 70% using NAIVE BAYES CLASSIFIER."
   ]
  }
 ],
 "metadata": {
  "kernelspec": {
   "display_name": "Python 3",
   "language": "python",
   "name": "python3"
  },
  "language_info": {
   "codemirror_mode": {
    "name": "ipython",
    "version": 3
   },
   "file_extension": ".py",
   "mimetype": "text/x-python",
   "name": "python",
   "nbconvert_exporter": "python",
   "pygments_lexer": "ipython3",
   "version": "3.7.1"
  }
 },
 "nbformat": 4,
 "nbformat_minor": 2
}

{
 "cells": [
  {
   "cell_type": "markdown",
   "metadata": {},
   "source": [
    "# Feature Engineering"
   ]
  },
  {
   "cell_type": "markdown",
   "metadata": {},
   "source": [
    "### Context:\n",
    "    \n",
    "The dataset contains 1000 entries with 20 categorial/symbolic attributes prepared by Prof. Hofmann. In this dataset, \n",
    "each entry represents a person who takes a credit by a bank. Each person is classified as good or bad credit risks according to \n",
    "the set of attributes. The link to the dataset can be found below.\n",
    "\n",
    "### Dataset:\n",
    "https://www.kaggle.com/renaldydermawan25/credit-data/version/1\n",
    "\n",
    "\n",
    "### Attribute information:\n",
    "    \n",
    "Age (numeric)\n",
    "\n",
    "Sex (text: male, female)\n",
    "\n",
    "Job (numeric: 0 - unskilled and non-resident, 1 - unskilled and resident, 2 - skilled, 3 - highly skilled)\n",
    "\n",
    "Housing (text: own, rent, or free)\n",
    "\n",
    "Saving accounts (text - little, moderate, quite rich, rich)\n",
    "\n",
    "Checking account (numeric, in DM - Deutsch Mark)\n",
    "\n",
    "Credit amount (numeric, in DM)\n",
    "\n",
    "Duration (numeric, in month)\n",
    "\n",
    "Purpose (text: car, furniture/equipment, radio/TV, domestic appliances, repairs, education, business, vacation/others)\n",
    "\n",
    "\n",
    "### Objective:\n",
    "    \n",
    "To Guage Feature Importance"
   ]
  },
  {
   "cell_type": "code",
   "execution_count": 1,
   "metadata": {},
   "outputs": [],
   "source": [
    "# Import important library\n",
    "import numpy as np\n",
    "import pandas as pd\n",
    "import matplotlib.pyplot as plt\n",
    "import seaborn as sns\n",
    "%matplotlib inline\n",
    "import warnings\n",
    "warnings.filterwarnings('ignore')\n",
    "\n",
    "from IPython.core.interactiveshell import InteractiveShell\n",
    "InteractiveShell.ast_node_interactivity = \"all\""
   ]
  },
  {
   "cell_type": "code",
   "execution_count": 2,
   "metadata": {},
   "outputs": [
    {
     "name": "stdout",
     "output_type": "stream",
     "text": [
      "Rows: 1000\n",
      "Rows: 21\n"
     ]
    },
    {
     "data": {
      "text/html": [
       "<div>\n",
       "<style scoped>\n",
       "    .dataframe tbody tr th:only-of-type {\n",
       "        vertical-align: middle;\n",
       "    }\n",
       "\n",
       "    .dataframe tbody tr th {\n",
       "        vertical-align: top;\n",
       "    }\n",
       "\n",
       "    .dataframe thead th {\n",
       "        text-align: right;\n",
       "    }\n",
       "</style>\n",
       "<table border=\"1\" class=\"dataframe\">\n",
       "  <thead>\n",
       "    <tr style=\"text-align: right;\">\n",
       "      <th></th>\n",
       "      <th>default</th>\n",
       "      <th>account_check_status</th>\n",
       "      <th>duration_in_month</th>\n",
       "      <th>credit_history</th>\n",
       "      <th>purpose</th>\n",
       "      <th>credit_amount</th>\n",
       "      <th>savings</th>\n",
       "      <th>present_emp_since</th>\n",
       "      <th>installment_as_income_perc</th>\n",
       "      <th>personal_status_sex</th>\n",
       "      <th>...</th>\n",
       "      <th>present_res_since</th>\n",
       "      <th>property</th>\n",
       "      <th>age</th>\n",
       "      <th>other_installment_plans</th>\n",
       "      <th>housing</th>\n",
       "      <th>credits_this_bank</th>\n",
       "      <th>job</th>\n",
       "      <th>people_under_maintenance</th>\n",
       "      <th>telephone</th>\n",
       "      <th>foreign_worker</th>\n",
       "    </tr>\n",
       "  </thead>\n",
       "  <tbody>\n",
       "    <tr>\n",
       "      <th>0</th>\n",
       "      <td>0</td>\n",
       "      <td>&lt; 0 DM</td>\n",
       "      <td>6</td>\n",
       "      <td>critical account/ other credits existing (not ...</td>\n",
       "      <td>domestic appliances</td>\n",
       "      <td>1169</td>\n",
       "      <td>unknown/ no savings account</td>\n",
       "      <td>.. &gt;= 7 years</td>\n",
       "      <td>4</td>\n",
       "      <td>male : single</td>\n",
       "      <td>...</td>\n",
       "      <td>4</td>\n",
       "      <td>real estate</td>\n",
       "      <td>67</td>\n",
       "      <td>none</td>\n",
       "      <td>own</td>\n",
       "      <td>2</td>\n",
       "      <td>skilled employee / official</td>\n",
       "      <td>1</td>\n",
       "      <td>yes, registered under the customers name</td>\n",
       "      <td>yes</td>\n",
       "    </tr>\n",
       "    <tr>\n",
       "      <th>1</th>\n",
       "      <td>1</td>\n",
       "      <td>0 &lt;= ... &lt; 200 DM</td>\n",
       "      <td>48</td>\n",
       "      <td>existing credits paid back duly till now</td>\n",
       "      <td>domestic appliances</td>\n",
       "      <td>5951</td>\n",
       "      <td>... &lt; 100 DM</td>\n",
       "      <td>1 &lt;= ... &lt; 4 years</td>\n",
       "      <td>2</td>\n",
       "      <td>female : divorced/separated/married</td>\n",
       "      <td>...</td>\n",
       "      <td>2</td>\n",
       "      <td>real estate</td>\n",
       "      <td>22</td>\n",
       "      <td>none</td>\n",
       "      <td>own</td>\n",
       "      <td>1</td>\n",
       "      <td>skilled employee / official</td>\n",
       "      <td>1</td>\n",
       "      <td>none</td>\n",
       "      <td>yes</td>\n",
       "    </tr>\n",
       "  </tbody>\n",
       "</table>\n",
       "<p>2 rows × 21 columns</p>\n",
       "</div>"
      ],
      "text/plain": [
       "   default account_check_status  duration_in_month  \\\n",
       "0        0               < 0 DM                  6   \n",
       "1        1    0 <= ... < 200 DM                 48   \n",
       "\n",
       "                                      credit_history              purpose  \\\n",
       "0  critical account/ other credits existing (not ...  domestic appliances   \n",
       "1           existing credits paid back duly till now  domestic appliances   \n",
       "\n",
       "   credit_amount                      savings   present_emp_since  \\\n",
       "0           1169  unknown/ no savings account       .. >= 7 years   \n",
       "1           5951                 ... < 100 DM  1 <= ... < 4 years   \n",
       "\n",
       "   installment_as_income_perc                  personal_status_sex  ...  \\\n",
       "0                           4                        male : single  ...   \n",
       "1                           2  female : divorced/separated/married  ...   \n",
       "\n",
       "  present_res_since     property age  other_installment_plans housing  \\\n",
       "0                 4  real estate  67                     none     own   \n",
       "1                 2  real estate  22                     none     own   \n",
       "\n",
       "  credits_this_bank                          job people_under_maintenance  \\\n",
       "0                 2  skilled employee / official                        1   \n",
       "1                 1  skilled employee / official                        1   \n",
       "\n",
       "                                   telephone foreign_worker  \n",
       "0  yes, registered under the customers name             yes  \n",
       "1                                       none            yes  \n",
       "\n",
       "[2 rows x 21 columns]"
      ]
     },
     "execution_count": 2,
     "metadata": {},
     "output_type": "execute_result"
    }
   ],
   "source": [
    "#Input dataset\n",
    "\n",
    "df_pre = pd.read_csv(\"credit_data.csv\")\n",
    "\n",
    "Shape=df_pre.shape\n",
    "\n",
    "print(\"Rows:\",Shape[0])\n",
    "print(\"Columns:\",Shape[1])\n",
    "\n",
    "df_pre.head(2)"
   ]
  },
  {
   "cell_type": "code",
   "execution_count": 3,
   "metadata": {},
   "outputs": [
    {
     "name": "stdout",
     "output_type": "stream",
     "text": [
      "<class 'pandas.core.frame.DataFrame'>\n",
      "RangeIndex: 1000 entries, 0 to 999\n",
      "Data columns (total 21 columns):\n",
      "default                       1000 non-null int64\n",
      "account_check_status          1000 non-null object\n",
      "duration_in_month             1000 non-null int64\n",
      "credit_history                1000 non-null object\n",
      "purpose                       1000 non-null object\n",
      "credit_amount                 1000 non-null int64\n",
      "savings                       1000 non-null object\n",
      "present_emp_since             1000 non-null object\n",
      "installment_as_income_perc    1000 non-null int64\n",
      "personal_status_sex           1000 non-null object\n",
      "other_debtors                 1000 non-null object\n",
      "present_res_since             1000 non-null int64\n",
      "property                      1000 non-null object\n",
      "age                           1000 non-null int64\n",
      "other_installment_plans       1000 non-null object\n",
      "housing                       1000 non-null object\n",
      "credits_this_bank             1000 non-null int64\n",
      "job                           1000 non-null object\n",
      "people_under_maintenance      1000 non-null int64\n",
      "telephone                     1000 non-null object\n",
      "foreign_worker                1000 non-null object\n",
      "dtypes: int64(8), object(13)\n",
      "memory usage: 164.1+ KB\n"
     ]
    }
   ],
   "source": [
    "df_pre.info()"
   ]
  },
  {
   "cell_type": "code",
   "execution_count": 4,
   "metadata": {},
   "outputs": [
    {
     "name": "stdout",
     "output_type": "stream",
     "text": [
      "Rows: 500\n",
      "Rows: 21\n"
     ]
    },
    {
     "data": {
      "text/plain": [
       "Index(['default', 'account_check_status', 'duration_in_month',\n",
       "       'credit_history', 'purpose', 'credit_amount', 'savings',\n",
       "       'present_emp_since', 'installment_as_income_perc',\n",
       "       'personal_status_sex', 'other_debtors', 'present_res_since', 'property',\n",
       "       'age', 'other_installment_plans', 'housing', 'credits_this_bank', 'job',\n",
       "       'people_under_maintenance', 'telephone', 'foreign_worker'],\n",
       "      dtype='object')"
      ]
     },
     "execution_count": 4,
     "metadata": {},
     "output_type": "execute_result"
    },
    {
     "data": {
      "text/html": [
       "<div>\n",
       "<style scoped>\n",
       "    .dataframe tbody tr th:only-of-type {\n",
       "        vertical-align: middle;\n",
       "    }\n",
       "\n",
       "    .dataframe tbody tr th {\n",
       "        vertical-align: top;\n",
       "    }\n",
       "\n",
       "    .dataframe thead th {\n",
       "        text-align: right;\n",
       "    }\n",
       "</style>\n",
       "<table border=\"1\" class=\"dataframe\">\n",
       "  <thead>\n",
       "    <tr style=\"text-align: right;\">\n",
       "      <th></th>\n",
       "      <th>default</th>\n",
       "      <th>account_check_status</th>\n",
       "      <th>duration_in_month</th>\n",
       "      <th>credit_history</th>\n",
       "      <th>purpose</th>\n",
       "      <th>credit_amount</th>\n",
       "      <th>savings</th>\n",
       "      <th>present_emp_since</th>\n",
       "      <th>installment_as_income_perc</th>\n",
       "      <th>personal_status_sex</th>\n",
       "      <th>...</th>\n",
       "      <th>present_res_since</th>\n",
       "      <th>property</th>\n",
       "      <th>age</th>\n",
       "      <th>other_installment_plans</th>\n",
       "      <th>housing</th>\n",
       "      <th>credits_this_bank</th>\n",
       "      <th>job</th>\n",
       "      <th>people_under_maintenance</th>\n",
       "      <th>telephone</th>\n",
       "      <th>foreign_worker</th>\n",
       "    </tr>\n",
       "  </thead>\n",
       "  <tbody>\n",
       "    <tr>\n",
       "      <th>544</th>\n",
       "      <td>0</td>\n",
       "      <td>no checking account</td>\n",
       "      <td>12</td>\n",
       "      <td>critical account/ other credits existing (not ...</td>\n",
       "      <td>car (new)</td>\n",
       "      <td>1255</td>\n",
       "      <td>... &lt; 100 DM</td>\n",
       "      <td>.. &gt;= 7 years</td>\n",
       "      <td>4</td>\n",
       "      <td>male : single</td>\n",
       "      <td>...</td>\n",
       "      <td>4</td>\n",
       "      <td>real estate</td>\n",
       "      <td>61</td>\n",
       "      <td>none</td>\n",
       "      <td>own</td>\n",
       "      <td>2</td>\n",
       "      <td>unskilled - resident</td>\n",
       "      <td>1</td>\n",
       "      <td>none</td>\n",
       "      <td>yes</td>\n",
       "    </tr>\n",
       "    <tr>\n",
       "      <th>515</th>\n",
       "      <td>0</td>\n",
       "      <td>&lt; 0 DM</td>\n",
       "      <td>6</td>\n",
       "      <td>critical account/ other credits existing (not ...</td>\n",
       "      <td>car (new)</td>\n",
       "      <td>609</td>\n",
       "      <td>... &lt; 100 DM</td>\n",
       "      <td>4 &lt;= ... &lt; 7 years</td>\n",
       "      <td>4</td>\n",
       "      <td>female : divorced/separated/married</td>\n",
       "      <td>...</td>\n",
       "      <td>3</td>\n",
       "      <td>if not A121 : building society savings agreeme...</td>\n",
       "      <td>37</td>\n",
       "      <td>none</td>\n",
       "      <td>own</td>\n",
       "      <td>2</td>\n",
       "      <td>skilled employee / official</td>\n",
       "      <td>1</td>\n",
       "      <td>none</td>\n",
       "      <td>no</td>\n",
       "    </tr>\n",
       "  </tbody>\n",
       "</table>\n",
       "<p>2 rows × 21 columns</p>\n",
       "</div>"
      ],
      "text/plain": [
       "     default account_check_status  duration_in_month  \\\n",
       "544        0  no checking account                 12   \n",
       "515        0               < 0 DM                  6   \n",
       "\n",
       "                                        credit_history    purpose  \\\n",
       "544  critical account/ other credits existing (not ...  car (new)   \n",
       "515  critical account/ other credits existing (not ...  car (new)   \n",
       "\n",
       "     credit_amount       savings   present_emp_since  \\\n",
       "544           1255  ... < 100 DM       .. >= 7 years   \n",
       "515            609  ... < 100 DM  4 <= ... < 7 years   \n",
       "\n",
       "     installment_as_income_perc                  personal_status_sex  ...  \\\n",
       "544                           4                        male : single  ...   \n",
       "515                           4  female : divorced/separated/married  ...   \n",
       "\n",
       "    present_res_since                                           property age  \\\n",
       "544                 4                                        real estate  61   \n",
       "515                 3  if not A121 : building society savings agreeme...  37   \n",
       "\n",
       "     other_installment_plans housing credits_this_bank  \\\n",
       "544                     none     own                 2   \n",
       "515                     none     own                 2   \n",
       "\n",
       "                             job people_under_maintenance  telephone  \\\n",
       "544         unskilled - resident                        1       none   \n",
       "515  skilled employee / official                        1       none   \n",
       "\n",
       "    foreign_worker  \n",
       "544            yes  \n",
       "515             no  \n",
       "\n",
       "[2 rows x 21 columns]"
      ]
     },
     "execution_count": 4,
     "metadata": {},
     "output_type": "execute_result"
    }
   ],
   "source": [
    "# Randomly select 50% data for this use case\n",
    "\n",
    "from sklearn.model_selection import train_test_split\n",
    "\n",
    "out_data,df =train_test_split(df_pre, train_size = 0.5,random_state=5)\n",
    "\n",
    "Shape=df.shape\n",
    "\n",
    "print(\"Rows:\",Shape[0])\n",
    "print(\"Columns:\",Shape[1])\n",
    "\n",
    "df.columns\n",
    "\n",
    "df.head(2)"
   ]
  },
  {
   "cell_type": "code",
   "execution_count": 5,
   "metadata": {},
   "outputs": [
    {
     "data": {
      "text/html": [
       "<div>\n",
       "<style scoped>\n",
       "    .dataframe tbody tr th:only-of-type {\n",
       "        vertical-align: middle;\n",
       "    }\n",
       "\n",
       "    .dataframe tbody tr th {\n",
       "        vertical-align: top;\n",
       "    }\n",
       "\n",
       "    .dataframe thead th {\n",
       "        text-align: right;\n",
       "    }\n",
       "</style>\n",
       "<table border=\"1\" class=\"dataframe\">\n",
       "  <thead>\n",
       "    <tr style=\"text-align: right;\">\n",
       "      <th></th>\n",
       "      <th>account_check_status</th>\n",
       "      <th>credit_history</th>\n",
       "      <th>purpose</th>\n",
       "      <th>savings</th>\n",
       "      <th>present_emp_since</th>\n",
       "      <th>personal_status_sex</th>\n",
       "      <th>other_debtors</th>\n",
       "      <th>property</th>\n",
       "      <th>other_installment_plans</th>\n",
       "      <th>housing</th>\n",
       "      <th>job</th>\n",
       "      <th>telephone</th>\n",
       "      <th>foreign_worker</th>\n",
       "    </tr>\n",
       "  </thead>\n",
       "  <tbody>\n",
       "    <tr>\n",
       "      <th>544</th>\n",
       "      <td>no checking account</td>\n",
       "      <td>critical account/ other credits existing (not ...</td>\n",
       "      <td>car (new)</td>\n",
       "      <td>... &lt; 100 DM</td>\n",
       "      <td>.. &gt;= 7 years</td>\n",
       "      <td>male : single</td>\n",
       "      <td>none</td>\n",
       "      <td>real estate</td>\n",
       "      <td>none</td>\n",
       "      <td>own</td>\n",
       "      <td>unskilled - resident</td>\n",
       "      <td>none</td>\n",
       "      <td>yes</td>\n",
       "    </tr>\n",
       "    <tr>\n",
       "      <th>515</th>\n",
       "      <td>&lt; 0 DM</td>\n",
       "      <td>critical account/ other credits existing (not ...</td>\n",
       "      <td>car (new)</td>\n",
       "      <td>... &lt; 100 DM</td>\n",
       "      <td>4 &lt;= ... &lt; 7 years</td>\n",
       "      <td>female : divorced/separated/married</td>\n",
       "      <td>none</td>\n",
       "      <td>if not A121 : building society savings agreeme...</td>\n",
       "      <td>none</td>\n",
       "      <td>own</td>\n",
       "      <td>skilled employee / official</td>\n",
       "      <td>none</td>\n",
       "      <td>no</td>\n",
       "    </tr>\n",
       "  </tbody>\n",
       "</table>\n",
       "</div>"
      ],
      "text/plain": [
       "    account_check_status                                     credit_history  \\\n",
       "544  no checking account  critical account/ other credits existing (not ...   \n",
       "515               < 0 DM  critical account/ other credits existing (not ...   \n",
       "\n",
       "       purpose       savings   present_emp_since  \\\n",
       "544  car (new)  ... < 100 DM       .. >= 7 years   \n",
       "515  car (new)  ... < 100 DM  4 <= ... < 7 years   \n",
       "\n",
       "                     personal_status_sex other_debtors  \\\n",
       "544                        male : single          none   \n",
       "515  female : divorced/separated/married          none   \n",
       "\n",
       "                                              property  \\\n",
       "544                                        real estate   \n",
       "515  if not A121 : building society savings agreeme...   \n",
       "\n",
       "    other_installment_plans housing                          job telephone  \\\n",
       "544                    none     own         unskilled - resident      none   \n",
       "515                    none     own  skilled employee / official      none   \n",
       "\n",
       "    foreign_worker  \n",
       "544            yes  \n",
       "515             no  "
      ]
     },
     "execution_count": 5,
     "metadata": {},
     "output_type": "execute_result"
    }
   ],
   "source": [
    "# Build Ensemble model but need to modify the dataset first\n",
    "# Just visualise\n",
    "obj_df=df.select_dtypes(include=['object'])\n",
    "obj_df.head(2)"
   ]
  },
  {
   "cell_type": "code",
   "execution_count": 6,
   "metadata": {
    "scrolled": true
   },
   "outputs": [
    {
     "name": "stdout",
     "output_type": "stream",
     "text": [
      "Rows: 500\n",
      "Rows: 61\n"
     ]
    },
    {
     "data": {
      "text/html": [
       "<div>\n",
       "<style scoped>\n",
       "    .dataframe tbody tr th:only-of-type {\n",
       "        vertical-align: middle;\n",
       "    }\n",
       "\n",
       "    .dataframe tbody tr th {\n",
       "        vertical-align: top;\n",
       "    }\n",
       "\n",
       "    .dataframe thead th {\n",
       "        text-align: right;\n",
       "    }\n",
       "</style>\n",
       "<table border=\"1\" class=\"dataframe\">\n",
       "  <thead>\n",
       "    <tr style=\"text-align: right;\">\n",
       "      <th></th>\n",
       "      <th>default</th>\n",
       "      <th>duration_in_month</th>\n",
       "      <th>credit_amount</th>\n",
       "      <th>installment_as_income_perc</th>\n",
       "      <th>present_res_since</th>\n",
       "      <th>age</th>\n",
       "      <th>credits_this_bank</th>\n",
       "      <th>people_under_maintenance</th>\n",
       "      <th>telephone</th>\n",
       "      <th>account_check_status_0 &lt;= ... &lt; 200 DM</th>\n",
       "      <th>...</th>\n",
       "      <th>other_installment_plans_stores</th>\n",
       "      <th>housing_for free</th>\n",
       "      <th>housing_own</th>\n",
       "      <th>housing_rent</th>\n",
       "      <th>job_management/ self-employed/ highly qualified employee/ officer</th>\n",
       "      <th>job_skilled employee / official</th>\n",
       "      <th>job_unemployed/ unskilled - non-resident</th>\n",
       "      <th>job_unskilled - resident</th>\n",
       "      <th>foreign_worker_no</th>\n",
       "      <th>foreign_worker_yes</th>\n",
       "    </tr>\n",
       "  </thead>\n",
       "  <tbody>\n",
       "    <tr>\n",
       "      <th>544</th>\n",
       "      <td>0</td>\n",
       "      <td>12</td>\n",
       "      <td>1255</td>\n",
       "      <td>4</td>\n",
       "      <td>4</td>\n",
       "      <td>61</td>\n",
       "      <td>2</td>\n",
       "      <td>1</td>\n",
       "      <td>none</td>\n",
       "      <td>0</td>\n",
       "      <td>...</td>\n",
       "      <td>0</td>\n",
       "      <td>0</td>\n",
       "      <td>1</td>\n",
       "      <td>0</td>\n",
       "      <td>0</td>\n",
       "      <td>0</td>\n",
       "      <td>0</td>\n",
       "      <td>1</td>\n",
       "      <td>0</td>\n",
       "      <td>1</td>\n",
       "    </tr>\n",
       "    <tr>\n",
       "      <th>515</th>\n",
       "      <td>0</td>\n",
       "      <td>6</td>\n",
       "      <td>609</td>\n",
       "      <td>4</td>\n",
       "      <td>3</td>\n",
       "      <td>37</td>\n",
       "      <td>2</td>\n",
       "      <td>1</td>\n",
       "      <td>none</td>\n",
       "      <td>0</td>\n",
       "      <td>...</td>\n",
       "      <td>0</td>\n",
       "      <td>0</td>\n",
       "      <td>1</td>\n",
       "      <td>0</td>\n",
       "      <td>0</td>\n",
       "      <td>1</td>\n",
       "      <td>0</td>\n",
       "      <td>0</td>\n",
       "      <td>1</td>\n",
       "      <td>0</td>\n",
       "    </tr>\n",
       "  </tbody>\n",
       "</table>\n",
       "<p>2 rows × 61 columns</p>\n",
       "</div>"
      ],
      "text/plain": [
       "     default  duration_in_month  credit_amount  installment_as_income_perc  \\\n",
       "544        0                 12           1255                           4   \n",
       "515        0                  6            609                           4   \n",
       "\n",
       "     present_res_since  age  credits_this_bank  people_under_maintenance  \\\n",
       "544                  4   61                  2                         1   \n",
       "515                  3   37                  2                         1   \n",
       "\n",
       "    telephone  account_check_status_0 <= ... < 200 DM  ...  \\\n",
       "544      none                                       0  ...   \n",
       "515      none                                       0  ...   \n",
       "\n",
       "     other_installment_plans_stores  housing_for free  housing_own  \\\n",
       "544                               0                 0            1   \n",
       "515                               0                 0            1   \n",
       "\n",
       "     housing_rent  \\\n",
       "544             0   \n",
       "515             0   \n",
       "\n",
       "     job_management/ self-employed/ highly qualified employee/ officer  \\\n",
       "544                                                  0                   \n",
       "515                                                  0                   \n",
       "\n",
       "     job_skilled employee / official  \\\n",
       "544                                0   \n",
       "515                                1   \n",
       "\n",
       "     job_unemployed/ unskilled - non-resident  job_unskilled - resident  \\\n",
       "544                                         0                         1   \n",
       "515                                         0                         0   \n",
       "\n",
       "     foreign_worker_no  foreign_worker_yes  \n",
       "544                  0                   1  \n",
       "515                  1                   0  \n",
       "\n",
       "[2 rows x 61 columns]"
      ]
     },
     "execution_count": 6,
     "metadata": {},
     "output_type": "execute_result"
    }
   ],
   "source": [
    "dff=pd.get_dummies(df, columns=['account_check_status','credit_history','purpose','savings',\n",
    "       'present_emp_since','personal_status_sex', 'other_debtors','property','other_installment_plans', \n",
    "       'housing','job','foreign_worker'])\n",
    "\n",
    "Shape=dff.shape\n",
    "\n",
    "print(\"Rows:\",Shape[0])\n",
    "print(\"Columns:\",Shape[1])\n",
    "\n",
    "\n",
    "dff.head(2)"
   ]
  },
  {
   "cell_type": "code",
   "execution_count": 7,
   "metadata": {},
   "outputs": [
    {
     "data": {
      "text/plain": [
       "credit_amount                                            duration_in_month                                                             0.583234\n",
       "credit_history_existing credits paid back duly till now  credit_history_critical account/ other credits existing (not at this bank)   -0.670328\n",
       "savings_unknown/ no savings account                      savings_... < 100 DM                                                         -0.609828\n",
       "personal_status_sex_male : single                        personal_status_sex_female : divorced/separated/married                      -0.766802\n",
       "other_debtors_none                                       other_debtors_co-applicant                                                   -0.678394\n",
       "                                                         other_debtors_guarantor                                                      -0.690725\n",
       "other_installment_plans_none                             other_installment_plans_bank                                                 -0.838966\n",
       "housing_for free                                         property_unknown / no property                                                0.740247\n",
       "housing_rent                                             housing_own                                                                  -0.756613\n",
       "job_unskilled - resident                                 job_skilled employee / official                                              -0.661808\n",
       "foreign_worker_yes                                       foreign_worker_no                                                            -1.000000\n",
       "dtype: float64"
      ]
     },
     "execution_count": 7,
     "metadata": {},
     "output_type": "execute_result"
    }
   ],
   "source": [
    "# Lets check for highly correlated variables\n",
    "\n",
    "cor= dff.corr()\n",
    "cor.loc[:,:] = np.tril(cor,k=-1)  # reference:https://www.geeksforgeeks.org/numpy-tril-python/\n",
    "cor=cor.stack()\n",
    "cor[(cor > 0.55) | (cor< -0.55)]"
   ]
  },
  {
   "cell_type": "code",
   "execution_count": 8,
   "metadata": {},
   "outputs": [],
   "source": [
    "#Drop irrelavent data\n",
    "dff=dff.drop([\"telephone\",\"foreign_worker_yes\",\"job_unskilled - resident\",\"housing_rent\",\n",
    "              \"other_installment_plans_bank\",\n",
    "              \"other_debtors_co-applicant\"],axis=1)"
   ]
  },
  {
   "cell_type": "code",
   "execution_count": 9,
   "metadata": {},
   "outputs": [
    {
     "name": "stdout",
     "output_type": "stream",
     "text": [
      "Target imbalance exists\n"
     ]
    },
    {
     "data": {
      "text/plain": [
       "0    0.726\n",
       "1    0.274\n",
       "Name: default, dtype: float64"
      ]
     },
     "execution_count": 9,
     "metadata": {},
     "output_type": "execute_result"
    }
   ],
   "source": [
    "# Target imbalance\n",
    "Target_Imb=dff[\"default\"].value_counts(normalize=True)\n",
    "if Target_Imb[0]>0.65:\n",
    "    print(\"Target imbalance exists\")\n",
    "\n",
    "Target_Imb"
   ]
  },
  {
   "cell_type": "code",
   "execution_count": 10,
   "metadata": {},
   "outputs": [
    {
     "data": {
      "text/plain": [
       "((350, 54), (150, 54), (350,), (150,))"
      ]
     },
     "execution_count": 10,
     "metadata": {},
     "output_type": "execute_result"
    }
   ],
   "source": [
    "# Split Train/Test data 70:30 ratio\n",
    "from sklearn.model_selection import train_test_split\n",
    "\n",
    "y = dff['default']\n",
    "X = dff.loc[:, dff.columns != 'default']\n",
    "\n",
    "X_train, X_test, y_train, y_test = train_test_split (X, y, test_size=0.3, random_state=42,)\n",
    "X_train.shape, X_test.shape, y_train.shape, y_test.shape"
   ]
  },
  {
   "cell_type": "code",
   "execution_count": 11,
   "metadata": {},
   "outputs": [
    {
     "data": {
      "text/plain": [
       "array([[95,  1],\n",
       "       [42, 12]])"
      ]
     },
     "execution_count": 11,
     "metadata": {},
     "output_type": "execute_result"
    },
    {
     "name": "stdout",
     "output_type": "stream",
     "text": [
      "Accuracy: 71.0 %\n"
     ]
    }
   ],
   "source": [
    "#Build RF Model\n",
    "from sklearn.ensemble import RandomForestClassifier\n",
    "rf = RandomForestClassifier(n_jobs=2,n_estimators=500,criterion=\"entropy\",random_state=9999)\n",
    "rfm=rf.fit(X_train, y_train)\n",
    "\n",
    "preds = rf.predict_proba(X_test)[:,1]\n",
    "y_pred=rf.predict(X_test)\n",
    "\n",
    "#calculate Confusion Matrix\n",
    "from sklearn.metrics import confusion_matrix\n",
    "from sklearn.metrics import accuracy_score\n",
    "\n",
    "confusion_matrix(y_test, y_pred)\n",
    "\n",
    "RF_Accuracy=np.around(accuracy_score(y_test, y_pred)*100)\n",
    "print(\"Accuracy:\",np.around(accuracy_score(y_test, y_pred)*100),\"%\")"
   ]
  },
  {
   "cell_type": "code",
   "execution_count": 12,
   "metadata": {},
   "outputs": [
    {
     "name": "stdout",
     "output_type": "stream",
     "text": [
      "                                                         Imp\n",
      "duration_in_month                                   0.000472\n",
      "credit_amount                                       0.000840\n",
      "installment_as_income_perc                          0.000914\n",
      "present_res_since                                   0.001637\n",
      "age                                                 0.002962\n",
      "credits_this_bank                                   0.004764\n",
      "people_under_maintenance                            0.005266\n",
      "account_check_status_0 <= ... < 200 DM              0.005689\n",
      "account_check_status_< 0 DM                         0.005968\n",
      "account_check_status_>= 200 DM / salary assignm...  0.006110\n",
      "account_check_status_no checking account            0.007207\n",
      "credit_history_all credits at this bank paid ba...  0.007952\n",
      "credit_history_critical account/ other credits ...  0.008168\n",
      "credit_history_delay in paying off in the past      0.008234\n",
      "credit_history_existing credits paid back duly ...  0.008475\n",
      "credit_history_no credits taken/ all credits pa...  0.009092\n",
      "purpose_(vacation - does not exist?)                0.009099\n",
      "purpose_business                                    0.009162\n",
      "purpose_car (new)                                   0.009696\n",
      "purpose_car (used)                                  0.009787\n",
      "purpose_domestic appliances                         0.009846\n",
      "purpose_education                                   0.010129\n",
      "purpose_furniture/equipment                         0.010154\n",
      "purpose_radio/television                            0.010198\n",
      "purpose_repairs                                     0.012396\n",
      "purpose_retraining                                  0.012564\n",
      "savings_.. >= 1000 DM                               0.012592\n",
      "savings_... < 100 DM                                0.013057\n",
      "savings_100 <= ... < 500 DM                         0.014064\n",
      "savings_500 <= ... < 1000 DM                        0.014125\n",
      "savings_unknown/ no savings account                 0.014140\n",
      "present_emp_since_.. >= 7 years                     0.014351\n",
      "present_emp_since_... < 1 year                      0.014838\n",
      "present_emp_since_1 <= ... < 4 years                0.014915\n",
      "present_emp_since_4 <= ... < 7 years                0.014935\n",
      "present_emp_since_unemployed                        0.015679\n",
      "personal_status_sex_female : divorced/separated...  0.015948\n",
      "personal_status_sex_male : divorced/separated       0.016197\n",
      "personal_status_sex_male : married/widowed          0.016675\n",
      "personal_status_sex_male : single                   0.016778\n",
      "other_debtors_guarantor                             0.016858\n",
      "other_debtors_none                                  0.017962\n",
      "property_if not A121 : building society savings...  0.017979\n",
      "property_if not A121/A122 : car or other, not i...  0.018061\n",
      "property_real estate                                0.022162\n",
      "property_unknown / no property                      0.025468\n",
      "other_installment_plans_none                        0.028585\n",
      "other_installment_plans_stores                      0.036917\n",
      "housing_for free                                    0.037502\n",
      "housing_own                                         0.037692\n",
      "job_management/ self-employed/ highly qualified...  0.043598\n",
      "job_skilled employee / official                     0.092911\n",
      "job_unemployed/ unskilled - non-resident            0.098252\n",
      "foreign_worker_no                                   0.110979\n"
     ]
    }
   ],
   "source": [
    "# View a list of the features and their importance scores\n",
    "importances = rf.feature_importances_\n",
    "indices = np.argsort(importances)[::-1][:15]\n",
    "a = dff.columns[:]\n",
    "features= a.drop('default',1)\n",
    "\n",
    "imp=rf.feature_importances_\n",
    "imp_sort=np.sort(imp)\n",
    "\n",
    "print (pd.DataFrame(imp_sort, columns = [\"Imp\"], index = X_train.columns))\n",
    "\n",
    "\n"
   ]
  },
  {
   "cell_type": "code",
   "execution_count": 13,
   "metadata": {},
   "outputs": [
    {
     "data": {
      "text/plain": [
       "<Figure size 432x288 with 0 Axes>"
      ]
     },
     "execution_count": 13,
     "metadata": {},
     "output_type": "execute_result"
    },
    {
     "data": {
      "text/plain": [
       "Text(0.5, 1.0, 'Feature Importances')"
      ]
     },
     "execution_count": 13,
     "metadata": {},
     "output_type": "execute_result"
    },
    {
     "data": {
      "text/plain": [
       "(<Figure size 720x540 with 1 Axes>,\n",
       " <matplotlib.axes._subplots.AxesSubplot at 0x106773e80>)"
      ]
     },
     "execution_count": 13,
     "metadata": {},
     "output_type": "execute_result"
    },
    {
     "data": {
      "text/plain": [
       "<BarContainer object of 15 artists>"
      ]
     },
     "execution_count": 13,
     "metadata": {},
     "output_type": "execute_result"
    },
    {
     "data": {
      "text/plain": [
       "([<matplotlib.axis.YTick at 0x10678d4e0>,\n",
       "  <matplotlib.axis.YTick at 0x106787dd8>,\n",
       "  <matplotlib.axis.YTick at 0x10677fda0>,\n",
       "  <matplotlib.axis.YTick at 0x1a1bf329e8>,\n",
       "  <matplotlib.axis.YTick at 0x1a1bf32e80>,\n",
       "  <matplotlib.axis.YTick at 0x1a1bf3f390>,\n",
       "  <matplotlib.axis.YTick at 0x1a1bf32f28>,\n",
       "  <matplotlib.axis.YTick at 0x1a1bf3f940>,\n",
       "  <matplotlib.axis.YTick at 0x1a1bf3fe10>,\n",
       "  <matplotlib.axis.YTick at 0x1a1bf45320>,\n",
       "  <matplotlib.axis.YTick at 0x1a1bf457f0>,\n",
       "  <matplotlib.axis.YTick at 0x1a1bf45cc0>,\n",
       "  <matplotlib.axis.YTick at 0x1a1bf4f208>,\n",
       "  <matplotlib.axis.YTick at 0x1a1bf4f710>,\n",
       "  <matplotlib.axis.YTick at 0x1a1bf4fc18>],\n",
       " <a list of 15 Text yticklabel objects>)"
      ]
     },
     "execution_count": 13,
     "metadata": {},
     "output_type": "execute_result"
    },
    {
     "data": {
      "text/plain": [
       "Text(0.5, 0, 'Relative Importance')"
      ]
     },
     "execution_count": 13,
     "metadata": {},
     "output_type": "execute_result"
    },
    {
     "data": {
      "image/png": "[encoded data removed]",
      "text/plain": [
       "<Figure size 432x288 with 1 Axes>"
      ]
     },
     "metadata": {
      "needs_background": "light"
     },
     "output_type": "display_data"
    },
    {
     "data": {
      "image/png": "[encoded data removed]",
      "text/plain": [
       "<Figure size 720x540 with 1 Axes>"
      ]
     },
     "metadata": {
      "needs_background": "light"
     },
     "output_type": "display_data"
    }
   ],
   "source": [
    "#plot it\n",
    "plt.figure(1)\n",
    "plt.title('Feature Importances')\n",
    "plt.subplots(figsize=(10,7.5))\n",
    "plt.barh(range(len(indices)), importances[indices], color='b', align='center')\n",
    "plt.yticks(range(len(indices)), features[indices])\n",
    "plt.xlabel('Relative Importance')"
   ]
  },
  {
   "cell_type": "code",
   "execution_count": 14,
   "metadata": {},
   "outputs": [
    {
     "name": "stdout",
     "output_type": "stream",
     "text": [
      "Train Accuracy: 100.0 %\n",
      "\n",
      "Test Accuracy: 71.0 %\n",
      "\n",
      "Accuracy abnormality: 29.0 %\n"
     ]
    }
   ],
   "source": [
    "trainResult = rf.score(X_train, y_train)\n",
    "testResult = rf.score(X_test, y_test)\n",
    "\n",
    "print(\"Train Accuracy:\", np.around(trainResult*100),\"%\\n\")\n",
    "\n",
    "print(\"Test Accuracy:\",np.around(testResult*100),\"%\\n\")\n",
    "\n",
    "print(\"Accuracy abnormality:\",np.around(trainResult*100-testResult*100),\"%\")"
   ]
  },
  {
   "cell_type": "markdown",
   "metadata": {},
   "source": [
    "## K-fold cross-validation\n",
    "\n",
    "k-fold cross validation(without stratification)\n",
    "\n",
    "Usually k is set as 10-20 in practical settings, depends on data set size"
   ]
  },
  {
   "cell_type": "code",
   "execution_count": 15,
   "metadata": {},
   "outputs": [],
   "source": [
    "from sklearn.model_selection import KFold\n",
    "from sklearn.model_selection import cross_val_score\n",
    "num_folds = 10\n",
    "seed = 77"
   ]
  },
  {
   "cell_type": "code",
   "execution_count": 16,
   "metadata": {},
   "outputs": [
    {
     "name": "stdout",
     "output_type": "stream",
     "text": [
      "Kfold 0 : 70.0 %\n",
      "\n",
      "Kfold 1 : 76.0 %\n",
      "\n",
      "Kfold 2 : 76.0 %\n",
      "\n",
      "Kfold 3 : 86.0 %\n",
      "\n",
      "Kfold 4 : 80.0 %\n",
      "\n",
      "Kfold 5 : 78.0 %\n",
      "\n",
      "Kfold 6 : 82.0 %\n",
      "\n",
      "Kfold 7 : 80.0 %\n",
      "\n",
      "Kfold 8 : 68.0 %\n",
      "\n",
      "Kfold 9 : 78.0 %\n",
      "\n",
      "Mean: 77.0 %\n",
      "\n",
      "Standard Deviation: 0.05063595560468864\n",
      "\n",
      "\n",
      "Random Forest Accuracy 71.0 %\n",
      "\n",
      "\n",
      "Accuracy improvement: 6.0 %\n"
     ]
    }
   ],
   "source": [
    "kfold = KFold(n_splits=num_folds, random_state=seed)\n",
    "\n",
    "# rfm = fit on training\n",
    "results = cross_val_score(rfm,X, y, cv=kfold)\n",
    "\n",
    "Kfold_CV=np.around(np.mean(abs(results*100)))\n",
    "\n",
    "for i in range(num_folds):\n",
    "    print(\"Kfold\",i,\":\",results[i]*100,\"%\\n\")\n",
    "\n",
    "print(\"Mean:\",Kfold_CV,\"%\")\n",
    "\n",
    "print(\"\\nStandard Deviation:\",results.std())\n",
    "\n",
    "print(\"\\n\\nRandom Forest Accuracy\",RF_Accuracy,\"%\\n\\n\")\n",
    "\n",
    "improvement=Kfold_CV-RF_Accuracy\n",
    "print(\"Accuracy improvement:\",np.around(improvement),\"%\")\n",
    "\n",
    "\n",
    "\n"
   ]
  },
  {
   "cell_type": "markdown",
   "metadata": {},
   "source": [
    "## Leave One Out Cross-Validation"
   ]
  },
  {
   "cell_type": "code",
   "execution_count": 17,
   "metadata": {},
   "outputs": [],
   "source": [
    "from sklearn.model_selection import LeaveOneOut\n",
    "from sklearn.model_selection import cross_val_score"
   ]
  },
  {
   "cell_type": "code",
   "execution_count": 18,
   "metadata": {},
   "outputs": [
    {
     "data": {
      "text/plain": [
       "array([0., 0., 1., 1., 0., 1., 1., 1., 1., 1., 1., 1., 1., 1., 1., 1., 1.,\n",
       "       0., 0., 0., 0., 1., 1., 1., 1., 1., 0., 1., 1., 1., 1., 1., 1., 1.,\n",
       "       1., 1., 1., 1., 1., 1., 1., 0., 0., 1., 1., 1., 0., 1., 0., 1., 1.,\n",
       "       1., 1., 1., 1., 1., 0., 0., 1., 1., 1., 1., 0., 1., 0., 1., 0., 1.,\n",
       "       1., 1., 1., 1., 0., 1., 1., 1., 0., 0., 1., 1., 1., 0., 0., 1., 1.,\n",
       "       1., 1., 1., 1., 0., 1., 0., 0., 0., 1., 1., 1., 0., 0., 1., 1., 0.,\n",
       "       1., 1., 1., 1., 1., 1., 1., 1., 0., 1., 0., 1., 1., 1., 1., 1., 1.,\n",
       "       1., 1., 1., 0., 1., 1., 1., 1., 0., 1., 1., 1., 1., 1., 1., 1., 1.,\n",
       "       0., 1., 1., 0., 1., 1., 1., 1., 1., 1., 1., 1., 1., 1., 1., 0., 1.,\n",
       "       1., 0., 1., 1., 1., 1., 0., 0., 1., 1., 1., 1., 1., 1., 1., 1., 1.,\n",
       "       1., 1., 1., 1., 0., 1., 0., 1., 1., 0., 1., 1., 1., 1., 1., 0., 1.,\n",
       "       1., 1., 1., 1., 1., 0., 1., 1., 0., 1., 1., 1., 1., 0., 1., 1., 1.,\n",
       "       1., 0., 1., 0., 1., 0., 1., 1., 1., 1., 1., 1., 1., 1., 1., 1., 1.,\n",
       "       1., 1., 1., 1., 1., 0., 1., 0., 0., 0., 0., 1., 1., 1., 1., 1., 1.,\n",
       "       0., 0., 1., 1., 1., 0., 1., 1., 1., 0., 1., 1., 1., 1., 1., 1., 1.,\n",
       "       1., 1., 1., 1., 1., 1., 1., 1., 0., 1., 0., 1., 1., 0., 1., 1., 1.,\n",
       "       1., 1., 1., 0., 0., 1., 1., 1., 1., 0., 1., 1., 0., 0., 0., 1., 0.,\n",
       "       1., 1., 1., 1., 0., 1., 1., 1., 1., 1., 1., 1., 0., 1., 1., 1., 0.,\n",
       "       1., 1., 0., 1., 0., 1., 1., 1., 1., 1., 1., 1., 1., 1., 1., 1., 1.,\n",
       "       1., 1., 1., 1., 1., 1., 1., 1., 1., 1., 1., 1., 1., 1., 1., 1., 1.,\n",
       "       1., 0., 1., 1., 0., 1., 1., 1., 0., 0.])"
      ]
     },
     "execution_count": 18,
     "metadata": {},
     "output_type": "execute_result"
    }
   ],
   "source": [
    "# You Will do it on X_train, y_train to save time. It will take too much time, hence not recommended for bigger data\n",
    "scores = cross_val_score(rfm, X_train, y_train, cv=LeaveOneOut())\n",
    "scores"
   ]
  },
  {
   "cell_type": "markdown",
   "metadata": {},
   "source": [
    "Because we have 350 samples, the leave one out cross-validation yields scores for 350 trials, and the score indicates either \n",
    "defaulter (1.0) or non-defaulter (0.0) prediction. Taking the mean of these gives an estimate of the error rate:"
   ]
  },
  {
   "cell_type": "code",
   "execution_count": 19,
   "metadata": {},
   "outputs": [
    {
     "name": "stdout",
     "output_type": "stream",
     "text": [
      "Mean accuracy: 78.0 %\n",
      "\n",
      "Random Forest Accuracy 71.0 %\n",
      "\n",
      "Standard Deviation: 0.4142463035441596\n",
      "\n",
      "Accuracy improvement: 7.0 %\n"
     ]
    }
   ],
   "source": [
    "print(\"Mean accuracy:\",scores.mean()*100,\"%\")\n",
    "\n",
    "print(\"\\nRandom Forest Accuracy\",RF_Accuracy,\"%\")\n",
    "\n",
    "print(\"\\nStandard Deviation:\",scores.std())\n",
    "\n",
    "Leave_One_Out=np.mean(abs(scores.mean()*100))\n",
    "improvement=Leave_One_Out-RF_Accuracy\n",
    "print(\"\\nAccuracy improvement:\",np.around(improvement),\"%\")\n"
   ]
  },
  {
   "cell_type": "markdown",
   "metadata": {},
   "source": [
    "# Stratified cross-validation"
   ]
  },
  {
   "cell_type": "markdown",
   "metadata": {},
   "source": [
    "k-fold cross validation with stratification"
   ]
  },
  {
   "cell_type": "code",
   "execution_count": 21,
   "metadata": {},
   "outputs": [
    {
     "name": "stdout",
     "output_type": "stream",
     "text": [
      "Kfold 0 : 76.47058823529412 %\n",
      "\n",
      "Kfold 1 : 80.3921568627451 %\n",
      "\n",
      "Kfold 2 : 78.43137254901961 %\n",
      "\n",
      "Kfold 3 : 80.0 %\n",
      "\n",
      "Kfold 4 : 80.0 %\n",
      "\n",
      "Kfold 5 : 78.0 %\n",
      "\n",
      "Kfold 6 : 78.0 %\n",
      "\n",
      "Kfold 7 : 77.55102040816327 %\n",
      "\n",
      "Kfold 8 : 73.46938775510205 %\n",
      "\n",
      "Kfold 9 : 77.55102040816327 %\n",
      "\n",
      "\n",
      "\n",
      "Mean: 78.0 %\n",
      "\n",
      "Standard Deviation: 0.01928092372203721\n",
      "\n",
      "\n",
      "Random Forest Accuracy 71.0 %\n",
      "\n",
      "\n",
      "Accuracy improvement: 7.0 %\n"
     ]
    }
   ],
   "source": [
    "\n",
    "from sklearn.model_selection  import StratifiedKFold, cross_val_score\n",
    "\n",
    "k = 10\n",
    "\n",
    "stratified_kfold = StratifiedKFold(n_splits = k, random_state = 55)\n",
    "results = cross_val_score(rfm, X, y, cv = stratified_kfold)\n",
    "\n",
    "strat_CV=np.around(np.mean(abs(results*100)))\n",
    "\n",
    "for i in range(k):\n",
    "    print(\"Kfold\",i,\":\",results[i]*100,\"%\\n\")\n",
    "\n",
    "print(\"\\n\\nMean:\",strat_CV,\"%\")\n",
    "\n",
    "print(\"\\nStandard Deviation:\",results.std())\n",
    "\n",
    "print(\"\\n\\nRandom Forest Accuracy\",RF_Accuracy,\"%\\n\\n\")\n",
    "\n",
    "improvement=strat_CV-RF_Accuracy\n",
    "print(\"Accuracy improvement:\",np.around(improvement),\"%\")\n",
    "\n"
   ]
  },
  {
   "cell_type": "markdown",
   "metadata": {},
   "source": [
    "# Bootstrapping ( Bonus)"
   ]
  },
  {
   "cell_type": "markdown",
   "metadata": {},
   "source": [
    "Given a dataset of size n, a bootstrap sample is created by sampling n instances uniformly from the data \n",
    "(with/without replacement)\n",
    "\n",
    "Create a model with each bootstrap sample and validate it with the test set\n",
    "\n",
    "Final result is calculated by averaging the accuracy of models"
   ]
  },
  {
   "cell_type": "code",
   "execution_count": 26,
   "metadata": {},
   "outputs": [
    {
     "data": {
      "text/plain": [
       "RandomForestClassifier(bootstrap=True, class_weight=None, criterion='entropy',\n",
       "            max_depth=None, max_features='auto', max_leaf_nodes=None,\n",
       "            min_impurity_decrease=0.0, min_impurity_split=None,\n",
       "            min_samples_leaf=1, min_samples_split=2,\n",
       "            min_weight_fraction_leaf=0.0, n_estimators=500, n_jobs=2,\n",
       "            oob_score=False, random_state=9999, verbose=0,\n",
       "            warm_start=False)"
      ]
     },
     "execution_count": 26,
     "metadata": {},
     "output_type": "execute_result"
    },
    {
     "data": {
      "text/plain": [
       "RandomForestClassifier(bootstrap=True, class_weight=None, criterion='entropy',\n",
       "            max_depth=None, max_features='auto', max_leaf_nodes=None,\n",
       "            min_impurity_decrease=0.0, min_impurity_split=None,\n",
       "            min_samples_leaf=1, min_samples_split=2,\n",
       "            min_weight_fraction_leaf=0.0, n_estimators=500, n_jobs=2,\n",
       "            oob_score=False, random_state=9999, verbose=0,\n",
       "            warm_start=False)"
      ]
     },
     "execution_count": 26,
     "metadata": {},
     "output_type": "execute_result"
    },
    {
     "data": {
      "text/plain": [
       "RandomForestClassifier(bootstrap=True, class_weight=None, criterion='entropy',\n",
       "            max_depth=None, max_features='auto', max_leaf_nodes=None,\n",
       "            min_impurity_decrease=0.0, min_impurity_split=None,\n",
       "            min_samples_leaf=1, min_samples_split=2,\n",
       "            min_weight_fraction_leaf=0.0, n_estimators=500, n_jobs=2,\n",
       "            oob_score=False, random_state=9999, verbose=0,\n",
       "            warm_start=False)"
      ]
     },
     "execution_count": 26,
     "metadata": {},
     "output_type": "execute_result"
    },
    {
     "data": {
      "text/plain": [
       "RandomForestClassifier(bootstrap=True, class_weight=None, criterion='entropy',\n",
       "            max_depth=None, max_features='auto', max_leaf_nodes=None,\n",
       "            min_impurity_decrease=0.0, min_impurity_split=None,\n",
       "            min_samples_leaf=1, min_samples_split=2,\n",
       "            min_weight_fraction_leaf=0.0, n_estimators=500, n_jobs=2,\n",
       "            oob_score=False, random_state=9999, verbose=0,\n",
       "            warm_start=False)"
      ]
     },
     "execution_count": 26,
     "metadata": {},
     "output_type": "execute_result"
    },
    {
     "data": {
      "text/plain": [
       "RandomForestClassifier(bootstrap=True, class_weight=None, criterion='entropy',\n",
       "            max_depth=None, max_features='auto', max_leaf_nodes=None,\n",
       "            min_impurity_decrease=0.0, min_impurity_split=None,\n",
       "            min_samples_leaf=1, min_samples_split=2,\n",
       "            min_weight_fraction_leaf=0.0, n_estimators=500, n_jobs=2,\n",
       "            oob_score=False, random_state=9999, verbose=0,\n",
       "            warm_start=False)"
      ]
     },
     "execution_count": 26,
     "metadata": {},
     "output_type": "execute_result"
    },
    {
     "data": {
      "text/plain": [
       "RandomForestClassifier(bootstrap=True, class_weight=None, criterion='entropy',\n",
       "            max_depth=None, max_features='auto', max_leaf_nodes=None,\n",
       "            min_impurity_decrease=0.0, min_impurity_split=None,\n",
       "            min_samples_leaf=1, min_samples_split=2,\n",
       "            min_weight_fraction_leaf=0.0, n_estimators=500, n_jobs=2,\n",
       "            oob_score=False, random_state=9999, verbose=0,\n",
       "            warm_start=False)"
      ]
     },
     "execution_count": 26,
     "metadata": {},
     "output_type": "execute_result"
    },
    {
     "data": {
      "text/plain": [
       "RandomForestClassifier(bootstrap=True, class_weight=None, criterion='entropy',\n",
       "            max_depth=None, max_features='auto', max_leaf_nodes=None,\n",
       "            min_impurity_decrease=0.0, min_impurity_split=None,\n",
       "            min_samples_leaf=1, min_samples_split=2,\n",
       "            min_weight_fraction_leaf=0.0, n_estimators=500, n_jobs=2,\n",
       "            oob_score=False, random_state=9999, verbose=0,\n",
       "            warm_start=False)"
      ]
     },
     "execution_count": 26,
     "metadata": {},
     "output_type": "execute_result"
    },
    {
     "data": {
      "text/plain": [
       "RandomForestClassifier(bootstrap=True, class_weight=None, criterion='entropy',\n",
       "            max_depth=None, max_features='auto', max_leaf_nodes=None,\n",
       "            min_impurity_decrease=0.0, min_impurity_split=None,\n",
       "            min_samples_leaf=1, min_samples_split=2,\n",
       "            min_weight_fraction_leaf=0.0, n_estimators=500, n_jobs=2,\n",
       "            oob_score=False, random_state=9999, verbose=0,\n",
       "            warm_start=False)"
      ]
     },
     "execution_count": 26,
     "metadata": {},
     "output_type": "execute_result"
    },
    {
     "data": {
      "text/plain": [
       "RandomForestClassifier(bootstrap=True, class_weight=None, criterion='entropy',\n",
       "            max_depth=None, max_features='auto', max_leaf_nodes=None,\n",
       "            min_impurity_decrease=0.0, min_impurity_split=None,\n",
       "            min_samples_leaf=1, min_samples_split=2,\n",
       "            min_weight_fraction_leaf=0.0, n_estimators=500, n_jobs=2,\n",
       "            oob_score=False, random_state=9999, verbose=0,\n",
       "            warm_start=False)"
      ]
     },
     "execution_count": 26,
     "metadata": {},
     "output_type": "execute_result"
    },
    {
     "data": {
      "text/plain": [
       "RandomForestClassifier(bootstrap=True, class_weight=None, criterion='entropy',\n",
       "            max_depth=None, max_features='auto', max_leaf_nodes=None,\n",
       "            min_impurity_decrease=0.0, min_impurity_split=None,\n",
       "            min_samples_leaf=1, min_samples_split=2,\n",
       "            min_weight_fraction_leaf=0.0, n_estimators=500, n_jobs=2,\n",
       "            oob_score=False, random_state=9999, verbose=0,\n",
       "            warm_start=False)"
      ]
     },
     "execution_count": 26,
     "metadata": {},
     "output_type": "execute_result"
    },
    {
     "name": "stdout",
     "output_type": "stream",
     "text": [
      "Standard deviation:  0.02023198787399133\n",
      "\n",
      "\n",
      "Mean: 69.0 %\n",
      "\n",
      "Standard Deviation: 0.02023198787399133\n",
      "\n",
      "\n",
      "Random Forest Accuracy 71.0 %\n",
      "\n",
      "\n",
      "Accuracy improvement: -2.0 %\n"
     ]
    }
   ],
   "source": [
    "# Number of iterations for bootstrapping\n",
    "bootstrap_iteration = 10\n",
    "accuracy = []\n",
    "\n",
    "from sklearn.utils import resample\n",
    "from sklearn.metrics import accuracy_score\n",
    "\n",
    "for i in range(bootstrap_iteration):\n",
    "    X_, y_ = resample(X_train, y_train)\n",
    "    rfm.fit(X_, y_)\n",
    "    y_pred = rfm.predict(X_test)\n",
    "    \n",
    "    acc = accuracy_score(y_pred, y_test)\n",
    "    accuracy.append(acc)\n",
    "    \n",
    "accuracy = np.array(accuracy)\n",
    "\n",
    "print('Standard deviation: ', accuracy.std())\n",
    "\n",
    "Boot=np.around(accuracy.mean()*100)\n",
    "\n",
    "print(\"\\n\\nMean:\",Boot,\"%\")\n",
    "\n",
    "print(\"\\nStandard Deviation:\",accuracy.std())\n",
    "\n",
    "print(\"\\n\\nRandom Forest Accuracy\",RF_Accuracy,\"%\\n\\n\")\n",
    "\n",
    "improvement=Boot-RF_Accuracy\n",
    "print(\"Accuracy improvement:\",np.around(improvement),\"%\")"
   ]
  },
  {
   "cell_type": "markdown",
   "metadata": {},
   "source": [
    "# Model Tuning using hyper parameters"
   ]
  },
  {
   "cell_type": "code",
   "execution_count": 28,
   "metadata": {},
   "outputs": [
    {
     "name": "stdout",
     "output_type": "stream",
     "text": [
      "Parameters currently in use:\n",
      "\n",
      "{'bootstrap': True,\n",
      " 'criterion': 'mse',\n",
      " 'max_depth': None,\n",
      " 'max_features': 'auto',\n",
      " 'max_leaf_nodes': None,\n",
      " 'min_impurity_decrease': 0.0,\n",
      " 'min_impurity_split': None,\n",
      " 'min_samples_leaf': 1,\n",
      " 'min_samples_split': 2,\n",
      " 'min_weight_fraction_leaf': 0.0,\n",
      " 'n_estimators': 'warn',\n",
      " 'n_jobs': None,\n",
      " 'oob_score': False,\n",
      " 'random_state': 1,\n",
      " 'verbose': 0,\n",
      " 'warm_start': False}\n"
     ]
    }
   ],
   "source": [
    "#pretty print\n",
    "\n",
    "from pprint import pprint\n",
    "from sklearn.ensemble import RandomForestRegressor\n",
    "\n",
    "rf = RandomForestRegressor(random_state = 1)\n",
    "\n",
    "print('Parameters currently in use:\\n')\n",
    "pprint(rf.get_params())"
   ]
  },
  {
   "cell_type": "markdown",
   "metadata": {},
   "source": [
    "# RandomSearchCV"
   ]
  },
  {
   "cell_type": "code",
   "execution_count": 30,
   "metadata": {},
   "outputs": [
    {
     "name": "stdout",
     "output_type": "stream",
     "text": [
      "[ 5. 10.]\n"
     ]
    }
   ],
   "source": [
    "import numpy as np\n",
    "print(np.linspace(start = 5, stop = 10, num = 2))"
   ]
  },
  {
   "cell_type": "code",
   "execution_count": 31,
   "metadata": {},
   "outputs": [
    {
     "name": "stdout",
     "output_type": "stream",
     "text": [
      "{'bootstrap': [True, False],\n",
      " 'max_depth': [5, 10, None],\n",
      " 'max_features': ['auto', 'sqrt'],\n",
      " 'min_samples_leaf': [1, 2, 4],\n",
      " 'min_samples_split': [2, 5, 10],\n",
      " 'n_estimators': [10, 15]}\n"
     ]
    }
   ],
   "source": [
    "from sklearn.model_selection import RandomizedSearchCV\n",
    "\n",
    "# Number of trees in random forest\n",
    "n_estimators = [int(x) for x in np.linspace(start = 10 , stop = 15, num = 2)]   # returns evenly spaced 10 numbers\n",
    "# Number of features to consider at every split\n",
    "max_features = ['auto', 'sqrt']\n",
    "# Maximum number of levels in tree\n",
    "max_depth = [int(x) for x in np.linspace(5, 10, num = 2)]  # returns evenly spaced numbers can be changed to any\n",
    "max_depth.append(None)\n",
    "# Minimum number of samples required to split a node\n",
    "min_samples_split = [2, 5, 10]\n",
    "# Minimum number of samples required at each leaf node\n",
    "min_samples_leaf = [1, 2, 4]\n",
    "# Method of selecting samples for training each tree\n",
    "bootstrap = [True, False]\n",
    "\n",
    "# Create the random grid\n",
    "random_grid = {'n_estimators': n_estimators,\n",
    "               'max_features': max_features,\n",
    "               'max_depth': max_depth,\n",
    "               'min_samples_split': min_samples_split,\n",
    "               'min_samples_leaf': min_samples_leaf,\n",
    "               'bootstrap': bootstrap}\n",
    "\n",
    "pprint(random_grid)"
   ]
  },
  {
   "cell_type": "code",
   "execution_count": 32,
   "metadata": {},
   "outputs": [
    {
     "name": "stdout",
     "output_type": "stream",
     "text": [
      "Fitting 3 folds for each of 5 candidates, totalling 15 fits\n"
     ]
    },
    {
     "name": "stderr",
     "output_type": "stream",
     "text": [
      "[Parallel(n_jobs=-1)]: Using backend LokyBackend with 4 concurrent workers.\n",
      "[Parallel(n_jobs=-1)]: Done  15 out of  15 | elapsed:    2.4s finished\n"
     ]
    }
   ],
   "source": [
    "# Use the random grid to search for best hyperparameters\n",
    "\n",
    "# Random search of parameters, using 3 fold cross validation, \n",
    "# search across 100 different combinations, and use all available cores\n",
    "rf_random = RandomizedSearchCV(estimator=rf, param_distributions=random_grid,\n",
    "                              n_iter = 5, scoring='neg_mean_absolute_error', \n",
    "                              cv = 3, verbose=2, random_state=42, n_jobs=-1,\n",
    "                              return_train_score=True)\n",
    "\n",
    "# Fit the random search model\n",
    "rf_random.fit(X_train, y_train);"
   ]
  },
  {
   "cell_type": "code",
   "execution_count": 33,
   "metadata": {},
   "outputs": [
    {
     "data": {
      "text/plain": [
       "{'n_estimators': 15,\n",
       " 'min_samples_split': 5,\n",
       " 'min_samples_leaf': 4,\n",
       " 'max_features': 'auto',\n",
       " 'max_depth': 5,\n",
       " 'bootstrap': True}"
      ]
     },
     "execution_count": 33,
     "metadata": {},
     "output_type": "execute_result"
    }
   ],
   "source": [
    "rf_random.best_params_"
   ]
  },
  {
   "cell_type": "code",
   "execution_count": 35,
   "metadata": {},
   "outputs": [
    {
     "name": "stdout",
     "output_type": "stream",
     "text": [
      "Random sarch CV Score: 15.0 %\n",
      "\n",
      "\n",
      "Random Forest Accuracy 71.0 %\n",
      "\n",
      "\n",
      "Accuracy improvement: -56.0 %\n"
     ]
    }
   ],
   "source": [
    "best_random = rf_random.best_estimator_\n",
    "\n",
    "print(\"Random sarch CV Score:\",Rand_search_cv,\"%\")\n",
    "\n",
    "print(\"\\n\\nRandom Forest Accuracy\",RF_Accuracy,\"%\\n\\n\")\n",
    "\n",
    "Rand_search_cv=np.around(best_random.score(X_test , y_test)*100)\n",
    "\n",
    "improvement=Rand_search_cv-RF_Accuracy\n",
    "print(\"Accuracy improvement:\",np.around(improvement),\"%\")"
   ]
  },
  {
   "cell_type": "markdown",
   "metadata": {},
   "source": [
    "# GridSearcCV"
   ]
  },
  {
   "cell_type": "code",
   "execution_count": 38,
   "metadata": {},
   "outputs": [
    {
     "name": "stderr",
     "output_type": "stream",
     "text": [
      "/Users/krishnavdave/anaconda3/lib/python3.7/site-packages/sklearn/model_selection/_search.py:841: DeprecationWarning: The default of the `iid` parameter will change from True to False in version 0.22 and will be removed in 0.24. This will change numeric results when test-set sizes are unequal.\n",
      "  DeprecationWarning)\n"
     ]
    },
    {
     "data": {
      "text/plain": [
       "GridSearchCV(cv=3, error_score='raise-deprecating',\n",
       "       estimator=RandomForestRegressor(bootstrap=True, criterion='mse', max_depth=None,\n",
       "           max_features='auto', max_leaf_nodes=None,\n",
       "           min_impurity_decrease=0.0, min_impurity_split=None,\n",
       "           min_samples_leaf=1, min_samples_split=2,\n",
       "           min_weight_fraction_leaf=0.0, n_estimators='warn', n_jobs=None,\n",
       "           oob_score=False, random_state=1, verbose=0, warm_start=False),\n",
       "       fit_params=None, iid='warn', n_jobs=1,\n",
       "       param_grid={'bootstrap': [True], 'max_depth': [5, 6], 'max_features': [2, 3], 'min_samples_leaf': [3, 4], 'min_samples_split': [5, 10], 'n_estimators': [5, 6, 7]},\n",
       "       pre_dispatch='2*n_jobs', refit=True, return_train_score=True,\n",
       "       scoring=None, verbose=0)"
      ]
     },
     "execution_count": 38,
     "metadata": {},
     "output_type": "execute_result"
    },
    {
     "data": {
      "text/plain": [
       "{'bootstrap': True,\n",
       " 'max_depth': 6,\n",
       " 'max_features': 3,\n",
       " 'min_samples_leaf': 3,\n",
       " 'min_samples_split': 10,\n",
       " 'n_estimators': 7}"
      ]
     },
     "execution_count": 38,
     "metadata": {},
     "output_type": "execute_result"
    }
   ],
   "source": [
    "from sklearn.model_selection import GridSearchCV\n",
    "\n",
    "param_grid = {\n",
    "    'bootstrap': [True],\n",
    "    'max_depth': [5,6],\n",
    "    'max_features': [2, 3],\n",
    "    'min_samples_leaf': [3, 4],\n",
    "    'min_samples_split': [5,10],\n",
    "    'n_estimators': [5,6,7]\n",
    "}    \n",
    "\n",
    "rf = RandomForestRegressor(random_state = 1)\n",
    "\n",
    "grid_search = GridSearchCV(estimator = rf, param_grid = param_grid, \n",
    "                          cv = 3, n_jobs = 1, verbose = 0, return_train_score=True)\n",
    "\n",
    "grid_search.fit(X_train, y_train);\n",
    "\n",
    "grid_search.best_params_"
   ]
  },
  {
   "cell_type": "code",
   "execution_count": 39,
   "metadata": {},
   "outputs": [
    {
     "name": "stdout",
     "output_type": "stream",
     "text": [
      "Random sarch CV Score: 7.0 %\n",
      "\n",
      "\n",
      "Random Forest Accuracy 71.0 %\n",
      "\n",
      "\n",
      "Accuracy improvement: -64.0 %\n"
     ]
    }
   ],
   "source": [
    "best_grid = grid_search.best_estimator_\n",
    "\n",
    "Grid_search_cv=np.around(best_grid.score(X_test, y_test)*100)\n",
    "print(\"Grid sarch CV Score:\",Grid_search_cv,\"%\")\n",
    "\n",
    "print(\"\\n\\nRandom Forest Accuracy\",RF_Accuracy,\"%\\n\\n\")\n",
    "\n",
    "improvement=Grid_search_cv-RF_Accuracy\n",
    "print(\"Accuracy improvement:\",np.around(improvement),\"%\")\n",
    "\n"
   ]
  },
  {
   "cell_type": "code",
   "execution_count": 40,
   "metadata": {},
   "outputs": [
    {
     "name": "stdout",
     "output_type": "stream",
     "text": [
      "Randon Forest Accuracy: 71.0 %\n",
      "\n",
      "K Fold: 77.0 %\n",
      "\n",
      "Leave one Out: 78.0 %\n",
      "\n",
      "Stratified CV: 78.0 %\n",
      "\n",
      "Bootstrapping: 69.0 %\n",
      "\n",
      "Random sarch CV: 15.0 %\n",
      "\n",
      "Random sarch CV Score: 7.0 %\n"
     ]
    }
   ],
   "source": [
    "print(\"Randon Forest Accuracy:\", RF_Accuracy,\"%\")\n",
    "\n",
    "print(\"\\nK Fold:\", Kfold_CV,\"%\")\n",
    "\n",
    "print(\"\\nLeave one Out:\", Leave_One_Out,\"%\")\n",
    "\n",
    "print(\"\\nStratified CV:\", strat_CV,\"%\")\n",
    "\n",
    "print(\"\\nBootstrapping:\", Boot,\"%\")\n",
    "\n",
    "print(\"\\nRandom sarch CV:\",Rand_search_cv,\"%\")\n",
    "\n",
    "print(\"\\nRandom sarch CV Score:\",Grid_search_cv,\"%\")\n"
   ]
  },
  {
   "cell_type": "code",
   "execution_count": 48,
   "metadata": {},
   "outputs": [],
   "source": [
    "Models=[\"Randon Forest\",\"K fold\",\"Leave One Out\",\"Stratified CV\",\"Random Search CV\",\"Grid Search CV\"]\n",
    "Best=[RF_Accuracy,Kfold_CV,Leave_One_Out,strat_CV,Boot,Rand_search_cv,Grid_search_cv]\n",
    "Best=np.array(Best)"
   ]
  },
  {
   "cell_type": "code",
   "execution_count": 49,
   "metadata": {},
   "outputs": [
    {
     "name": "stdout",
     "output_type": "stream",
     "text": [
      "Best model is: Leave One Out\n"
     ]
    }
   ],
   "source": [
    "best=Best.argmax()\n",
    "print(\"Best model is:\",Models[best])"
   ]
  },
  {
   "cell_type": "code",
   "execution_count": null,
   "metadata": {},
   "outputs": [],
   "source": []
  }
 ],
 "metadata": {
  "kernelspec": {
   "display_name": "Python 3",
   "language": "python",
   "name": "python3"
  },
  "language_info": {
   "codemirror_mode": {
    "name": "ipython",
    "version": 3
   },
   "file_extension": ".py",
   "mimetype": "text/x-python",
   "name": "python",
   "nbconvert_exporter": "python",
   "pygments_lexer": "ipython3",
   "version": "3.7.1"
  }
 },
 "nbformat": 4,
 "nbformat_minor": 2
}

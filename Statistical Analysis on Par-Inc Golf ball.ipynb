{
 "cells": [
  {
   "cell_type": "markdown",
   "metadata": {},
   "source": [
    "# OBJECTIVES:\n",
    "\n",
    "1) To formulate and present the rationale for a hypothesis test that the Par-Inc could use to compare driving distance of Current and New ball.\n",
    "\n",
    "2) To analyse the data to provide hypothesis testing conclusion.\n",
    "\n",
    "3) To provide a recommendation for Par Inc.\n"
   ]
  },
  {
   "cell_type": "code",
   "execution_count": 2,
   "metadata": {},
   "outputs": [],
   "source": [
    "#importing the necessary packages\n",
    "import numpy as np\n",
    "import pandas as pd\n",
    "import matplotlib.pyplot as plt\n",
    "%matplotlib inline\n",
    "import seaborn as sns\n",
    "from scipy.stats import ttest_1samp,ttest_ind,mannwhitneyu,levene,shapiro,wilcoxon\n",
    "from statsmodels.stats.power import ttest_power"
   ]
  },
  {
   "cell_type": "code",
   "execution_count": 3,
   "metadata": {},
   "outputs": [],
   "source": [
    "#reading the data\n",
    "file= pd.read_excel(\"SM4-Golf.xls\")"
   ]
  },
  {
   "cell_type": "code",
   "execution_count": 4,
   "metadata": {},
   "outputs": [],
   "source": [
    "#duplicating data for safety\n",
    "data=file.copy()"
   ]
  },
  {
   "cell_type": "markdown",
   "metadata": {},
   "source": [
    "### to look-up data\n",
    "data.head()"
   ]
  },
  {
   "cell_type": "markdown",
   "metadata": {},
   "source": [
    "The attributes signifies the distance travelled by the Current and New ball"
   ]
  },
  {
   "cell_type": "code",
   "execution_count": 6,
   "metadata": {},
   "outputs": [
    {
     "data": {
      "text/html": [
       "<div>\n",
       "<style scoped>\n",
       "    .dataframe tbody tr th:only-of-type {\n",
       "        vertical-align: middle;\n",
       "    }\n",
       "\n",
       "    .dataframe tbody tr th {\n",
       "        vertical-align: top;\n",
       "    }\n",
       "\n",
       "    .dataframe thead th {\n",
       "        text-align: right;\n",
       "    }\n",
       "</style>\n",
       "<table border=\"1\" class=\"dataframe\">\n",
       "  <thead>\n",
       "    <tr style=\"text-align: right;\">\n",
       "      <th></th>\n",
       "      <th>count</th>\n",
       "      <th>mean</th>\n",
       "      <th>std</th>\n",
       "      <th>min</th>\n",
       "      <th>25%</th>\n",
       "      <th>50%</th>\n",
       "      <th>75%</th>\n",
       "      <th>max</th>\n",
       "    </tr>\n",
       "  </thead>\n",
       "  <tbody>\n",
       "    <tr>\n",
       "      <th>Current</th>\n",
       "      <td>40.0</td>\n",
       "      <td>270.275</td>\n",
       "      <td>8.752985</td>\n",
       "      <td>255.0</td>\n",
       "      <td>263.0</td>\n",
       "      <td>270.0</td>\n",
       "      <td>275.25</td>\n",
       "      <td>289.0</td>\n",
       "    </tr>\n",
       "    <tr>\n",
       "      <th>New</th>\n",
       "      <td>40.0</td>\n",
       "      <td>267.500</td>\n",
       "      <td>9.896904</td>\n",
       "      <td>250.0</td>\n",
       "      <td>262.0</td>\n",
       "      <td>265.0</td>\n",
       "      <td>274.50</td>\n",
       "      <td>289.0</td>\n",
       "    </tr>\n",
       "  </tbody>\n",
       "</table>\n",
       "</div>"
      ],
      "text/plain": [
       "         count     mean       std    min    25%    50%     75%    max\n",
       "Current   40.0  270.275  8.752985  255.0  263.0  270.0  275.25  289.0\n",
       "New       40.0  267.500  9.896904  250.0  262.0  265.0  274.50  289.0"
      ]
     },
     "execution_count": 6,
     "metadata": {},
     "output_type": "execute_result"
    }
   ],
   "source": [
    "#getting complete over view of the data\n",
    "data.describe().T"
   ]
  },
  {
   "cell_type": "markdown",
   "metadata": {},
   "source": [
    "there are totally 40 values each\n",
    "at present it looks like means are not that apart from each other"
   ]
  },
  {
   "cell_type": "code",
   "execution_count": 7,
   "metadata": {},
   "outputs": [
    {
     "name": "stdout",
     "output_type": "stream",
     "text": [
      "<class 'pandas.core.frame.DataFrame'>\n",
      "RangeIndex: 40 entries, 0 to 39\n",
      "Data columns (total 2 columns):\n",
      "Current    40 non-null int64\n",
      "New        40 non-null int64\n",
      "dtypes: int64(2)\n",
      "memory usage: 680.0 bytes\n"
     ]
    }
   ],
   "source": [
    "#to check for null valuesand to know the datatype of variables\n",
    "data.info()"
   ]
  },
  {
   "cell_type": "markdown",
   "metadata": {},
   "source": [
    "'''\n",
    "There is no null data.\n",
    "The atributes Current and New are the measure of distance.\n",
    "Hence the contineous datatype integer holds good.\n",
    "'''\n"
   ]
  },
  {
   "cell_type": "code",
   "execution_count": 20,
   "metadata": {},
   "outputs": [
    {
     "data": {
      "image/png": "[encoded data removed]",
      "text/plain": [
       "<Figure size 432x288 with 1 Axes>"
      ]
     },
     "metadata": {
      "needs_background": "light"
     },
     "output_type": "display_data"
    }
   ],
   "source": [
    "#let us now visualise the data\n",
    "sns.boxplot(data['Current'])\n",
    "plt.show()"
   ]
  },
  {
   "cell_type": "code",
   "execution_count": 21,
   "metadata": {},
   "outputs": [
    {
     "data": {
      "image/png": "[encoded data removed]",
      "text/plain": [
       "<Figure size 432x288 with 1 Axes>"
      ]
     },
     "metadata": {
      "needs_background": "light"
     },
     "output_type": "display_data"
    }
   ],
   "source": [
    "sns.boxplot(data['New'])\n",
    "plt.show()"
   ]
  },
  {
   "cell_type": "markdown",
   "metadata": {},
   "source": [
    "'''\n",
    "From above Visualisation we can clearly see that the data is of normal distribution.\n",
    "There are no significant outliers.\n",
    "\n",
    "Now the Hypothesis testing has to be carried out.\n",
    "    Let us assume, \n",
    "                   1) H0:mu1=mu2,\n",
    "                      (Mean distance travelled by Current ball = Mean distance travelled by New ball)\n",
    "                      i.e., New coating does not have effect on driving distances.\n",
    "                    \n",
    "                   2) Ha:mu1!=mu2,\n",
    "                      (Mean distance travelled by Current ball != Mean distance travelled by New ball)\n",
    "                      i.e., New coating does have significant effect on driving distances.\n",
    "                      \n",
    "                   3) The level of Significance(alpha)=0.05\n",
    "\n",
    "'''"
   ]
  },
  {
   "cell_type": "markdown",
   "metadata": {},
   "source": [
    "'''\n",
    "The pragmatic test is done on the data which is normally distributed.\n",
    "The non-pragmatic test can ve  done on all kind of data which is specifically not normal distribution.\n",
    "even thought we can visualise and check the distribution of variances, the paragmatic and non-pragmatic tests can be done to kno the results statistically.\n",
    "'''"
   ]
  },
  {
   "cell_type": "code",
   "execution_count": 9,
   "metadata": {},
   "outputs": [
    {
     "name": "stdout",
     "output_type": "stream",
     "text": [
      "1.3283615935245678 0.18793228491854663\n"
     ]
    }
   ],
   "source": [
    "#Performing parametric ttest on independent 2samples\n",
    "t_static,p_value=ttest_ind(data['Current'],data['New'])\n",
    "print(t_static,p_value)"
   ]
  },
  {
   "cell_type": "markdown",
   "metadata": {},
   "source": [
    "The pvalue above is ~0.188 which is greater than the level of significance.\n",
    "i.e.,0.188>0.05\n",
    "This suggests us to accept H0"
   ]
  },
  {
   "cell_type": "code",
   "execution_count": 10,
   "metadata": {},
   "outputs": [
    {
     "name": "stdout",
     "output_type": "stream",
     "text": [
      "668.0 0.10265192122893124\n"
     ]
    }
   ],
   "source": [
    "#Performing non-parametric ttest on independent 2samples\n",
    "mu,p_value=mannwhitneyu(data['Current'],data['New'])\n",
    "print(mu,p_value)"
   ]
  },
  {
   "cell_type": "markdown",
   "metadata": {},
   "source": [
    "'''\n",
    "The pvalue above is ~0.10 which is greater than the level of significance.\n",
    "i.e.,0.10>0.05\n",
    "This suggests us to accept H0\n",
    "'''"
   ]
  },
  {
   "cell_type": "code",
   "execution_count": 11,
   "metadata": {},
   "outputs": [
    {
     "data": {
      "text/plain": [
       "LeveneResult(statistic=0.2553238291765741, pvalue=0.6147759523331309)"
      ]
     },
     "execution_count": 11,
     "metadata": {},
     "output_type": "execute_result"
    }
   ],
   "source": [
    "#to check variance distribution across two different groups\n",
    "levene(data['Current'],data['New'])"
   ]
  },
  {
   "cell_type": "code",
   "execution_count": 12,
   "metadata": {},
   "outputs": [
    {
     "name": "stderr",
     "output_type": "stream",
     "text": [
      "C:\\Users\\SHASHI\\Anaconda3\\lib\\site-packages\\scipy\\stats\\stats.py:1713: FutureWarning: Using a non-tuple sequence for multidimensional indexing is deprecated; use `arr[tuple(seq)]` instead of `arr[seq]`. In the future this will be interpreted as an array index, `arr[np.array(seq)]`, which will result either in an error or a different result.\n",
      "  return np.add.reduce(sorted[indexer] * weights, axis=axis) / sumval\n"
     ]
    },
    {
     "data": {
      "image/png": "[encoded data removed]",
      "text/plain": [
       "<Figure size 720x360 with 2 Axes>"
      ]
     },
     "metadata": {
      "needs_background": "light"
     },
     "output_type": "display_data"
    }
   ],
   "source": [
    "#let us now visualise the data\n",
    "f,axes=plt.subplots(1,2,figsize=(10,5),sharex=True)\n",
    "sns.distplot(data['Current'],color=\"red\",ax=axes[0])\n",
    "sns.distplot(data['New'],color=\"blue\",ax=axes[1])\n",
    "plt.show()"
   ]
  },
  {
   "cell_type": "code",
   "execution_count": 13,
   "metadata": {},
   "outputs": [
    {
     "data": {
      "text/plain": [
       "'\\nThe pvalue above is ~0.615 which is greater than the level of significance.\\ni.e.,0.615>0.05\\nThis means that around 61.5% variances are approximate, Hence suggests us not to reject H0.\\n'"
      ]
     },
     "execution_count": 13,
     "metadata": {},
     "output_type": "execute_result"
    }
   ],
   "source": [
    "'''\n",
    "The pvalue above is ~0.615 which is greater than the level of significance.\n",
    "i.e.,0.615>0.05\n",
    "This means that around 61.5% variances are approximate, Hence suggests us not to reject H0.\n",
    "'''"
   ]
  },
  {
   "cell_type": "code",
   "execution_count": 14,
   "metadata": {},
   "outputs": [
    {
     "data": {
      "text/plain": [
       "(0.9707046747207642, 0.378787100315094)"
      ]
     },
     "execution_count": 14,
     "metadata": {},
     "output_type": "execute_result"
    }
   ],
   "source": [
    "#to statistically check whether the data is distributed normally or not\n",
    "shapiro(data['Current'])"
   ]
  },
  {
   "cell_type": "markdown",
   "metadata": {},
   "source": [
    "The Higher pvalue of ~0.38 suggest us that,statistically the variances are normally distributed."
   ]
  },
  {
   "cell_type": "code",
   "execution_count": 15,
   "metadata": {},
   "outputs": [
    {
     "data": {
      "text/plain": [
       "(0.9678263664245605, 0.3064655661582947)"
      ]
     },
     "execution_count": 15,
     "metadata": {},
     "output_type": "execute_result"
    }
   ],
   "source": [
    "#to statistically check whether the data is distributed normally or not\n",
    "shapiro(data['New'])"
   ]
  },
  {
   "cell_type": "markdown",
   "metadata": {},
   "source": [
    "The Higher pvalue of ~0.38 suggest us that,statistically the variances are normally distributed."
   ]
  },
  {
   "cell_type": "code",
   "execution_count": 16,
   "metadata": {},
   "outputs": [
    {
     "data": {
      "text/plain": [
       "'\\nPower of the test can be calculated to know the demarcation between H0 and Ha.\\nLower pvalue than the significance value suggests us to retain/accept H0 and vice-versa.\\n'"
      ]
     },
     "execution_count": 16,
     "metadata": {},
     "output_type": "execute_result"
    }
   ],
   "source": [
    "'''\n",
    "Power of the test can be calculated to know the demarcation between H0 and Ha.\n",
    "Lower pvalue than the significance value suggests us to retain/accept H0 and vice-versa.\n",
    "'''"
   ]
  },
  {
   "cell_type": "code",
   "execution_count": 17,
   "metadata": {},
   "outputs": [
    {
     "data": {
      "text/plain": [
       "0.05029362946501662"
      ]
     },
     "execution_count": 17,
     "metadata": {},
     "output_type": "execute_result"
    }
   ],
   "source": [
    "pooledstd=(np.mean(data['Current'])-np.mean(data['New']))/np.sqrt((40-1)*np.var(data['Current'])+(40-1)*np.var(data['New'])/40+40-2)\n",
    "pooledstd"
   ]
  },
  {
   "cell_type": "code",
   "execution_count": 18,
   "metadata": {},
   "outputs": [
    {
     "name": "stdout",
     "output_type": "stream",
     "text": [
      "0.06097350031712489\n"
     ]
    }
   ],
   "source": [
    "print(ttest_power(0.05,nobs=40,alpha=0.05,alternative=\"two-sided\"))"
   ]
  },
  {
   "cell_type": "markdown",
   "metadata": {},
   "source": [
    "The above power of the test indicate that the (1-beta) value is ~0.061 which means to accept H0"
   ]
  },
  {
   "cell_type": "code",
   "execution_count": 22,
   "metadata": {},
   "outputs": [
    {
     "data": {
      "image/png": "[encoded data removed]",
      "text/plain": [
       "<Figure size 720x360 with 1 Axes>"
      ]
     },
     "metadata": {
      "needs_background": "light"
     },
     "output_type": "display_data"
    }
   ],
   "source": [
    "f,axes=plt.subplots(figsize=(10,5),sharex=True)\n",
    "sns.distplot(data['Current'],color=\"red\")\n",
    "sns.distplot(data['New'],color=\"blue\")\n",
    "plt.show()"
   ]
  },
  {
   "cell_type": "markdown",
   "metadata": {},
   "source": [
    "'''\n",
    "From above visualisation we can note that there is no significant difference/demarkation between distance travelled by Current and New ball.\n",
    "Hence Par Inc. can take a note of this while deciding the release of the new cut resistance golf ball to the market \n",
    "'''"
   ]
  },
  {
   "cell_type": "code",
   "execution_count": null,
   "metadata": {},
   "outputs": [],
   "source": []
  }
 ],
 "metadata": {
  "kernelspec": {
   "display_name": "Python 3",
   "language": "python",
   "name": "python3"
  },
  "language_info": {
   "codemirror_mode": {
    "name": "ipython",
    "version": 3
   },
   "file_extension": ".py",
   "mimetype": "text/x-python",
   "name": "python",
   "nbconvert_exporter": "python",
   "pygments_lexer": "ipython3",
   "version": "3.7.1"
  }
 },
 "nbformat": 4,
 "nbformat_minor": 2
}
